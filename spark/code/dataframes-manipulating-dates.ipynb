{
 "cells": [
  {
   "cell_type": "code",
   "execution_count": 2,
   "metadata": {},
   "outputs": [],
   "source": [
    "crimes = spark.read.csv(\"../data/crimes/Crimes_-_One_year_prior_to_present.csv\", header=True, inferSchema=True)\n",
    "# try the above without the header and inferSchema option. see what happens!"
   ]
  },
  {
   "cell_type": "code",
   "execution_count": 3,
   "metadata": {},
   "outputs": [
    {
     "data": {
      "text/plain": [
       "['CASE#',\n",
       " 'DATE  OF OCCURRENCE',\n",
       " 'BLOCK',\n",
       " 'IUCR',\n",
       " 'PRIMARY DESCRIPTION',\n",
       " 'SECONDARY DESCRIPTION',\n",
       " 'LOCATION DESCRIPTION',\n",
       " 'ARREST',\n",
       " 'DOMESTIC',\n",
       " 'BEAT',\n",
       " 'WARD',\n",
       " 'FBI CD',\n",
       " 'X COORDINATE',\n",
       " 'Y COORDINATE',\n",
       " 'LATITUDE',\n",
       " 'LONGITUDE',\n",
       " 'LOCATION']"
      ]
     },
     "execution_count": 3,
     "metadata": {},
     "output_type": "execute_result"
    }
   ],
   "source": [
    "# Let's rename the improperly formatted column names\n",
    "columnNames = crimes.columns\n",
    "for col in columnNames:\n",
    "    crimes = crimes.withColumnRenamed(col, col.strip())\n",
    "    \n",
    "crimes.columns"
   ]
  },
  {
   "cell_type": "code",
   "execution_count": 5,
   "metadata": {},
   "outputs": [
    {
     "data": {
      "text/plain": [
       "[Row(CASE#='JB241987', DATE  OF OCCURRENCE='04/28/2018 10:05:00 PM', BLOCK='009XX N LONG AVE', IUCR='2092', PRIMARY DESCRIPTION='NARCOTICS', SECONDARY DESCRIPTION='SOLICIT NARCOTICS ON PUBLICWAY', LOCATION DESCRIPTION='SIDEWALK', ARREST='Y', DOMESTIC='N', BEAT=1524, WARD=37, FBI CD='18', X COORDINATE=1140136, Y COORDINATE=1905903, LATITUDE=41.897894893, LONGITUDE=-87.760743714, LOCATION='(41.897894893, -87.760743714)', DATE_AS_STRING='04/28/2018')]"
      ]
     },
     "execution_count": 5,
     "metadata": {},
     "output_type": "execute_result"
    }
   ],
   "source": [
    "# Creating a user-defined function to parse an existing column and create a new column\n",
    "import pyspark.sql.functions as F\n",
    "import pyspark.sql.types as T\n",
    "\n",
    "def get_date_in_DD_MM_YYYY(col):\n",
    "    return col.split(' ')[0]\n",
    "\n",
    "my_udf = F.UserDefinedFunction(get_date_in_DD_MM_YYYY, T.StringType())\n",
    "\n",
    "crimes = crimes.withColumn('DATE_AS_STRING', my_udf('DATE  OF OCCURRENCE'))\n",
    "crimes.take(1)"
   ]
  },
  {
   "cell_type": "code",
   "execution_count": 6,
   "metadata": {},
   "outputs": [
    {
     "data": {
      "text/plain": [
       "[Row(DATE=datetime.date(2018, 4, 28))]"
      ]
     },
     "execution_count": 6,
     "metadata": {},
     "output_type": "execute_result"
    }
   ],
   "source": [
    "# Verify that we can convert a column of type string to type datetime\n",
    "from pyspark.sql.functions import to_date\n",
    "\n",
    "crimes.select(to_date(\"DATE_AS_STRING\", 'MM/dd/yyyy').alias('DATE')).take(1)"
   ]
  },
  {
   "cell_type": "code",
   "execution_count": 7,
   "metadata": {},
   "outputs": [
    {
     "data": {
      "text/plain": [
       "[Row(CASE#='JB241987', DATE  OF OCCURRENCE='04/28/2018 10:05:00 PM', BLOCK='009XX N LONG AVE', IUCR='2092', PRIMARY DESCRIPTION='NARCOTICS', SECONDARY DESCRIPTION='SOLICIT NARCOTICS ON PUBLICWAY', LOCATION DESCRIPTION='SIDEWALK', ARREST='Y', DOMESTIC='N', BEAT=1524, WARD=37, FBI CD='18', X COORDINATE=1140136, Y COORDINATE=1905903, LATITUDE=41.897894893, LONGITUDE=-87.760743714, LOCATION='(41.897894893, -87.760743714)', DATE_AS_STRING='04/28/2018', DATE=datetime.date(2018, 4, 28))]"
      ]
     },
     "execution_count": 7,
     "metadata": {},
     "output_type": "execute_result"
    }
   ],
   "source": [
    "# Add a new DATE column in the crimes dataframe\n",
    "crimes = crimes.withColumn(\"DATE\", to_date(\"DATE_AS_STRING\", 'MM/dd/yyyy'))\n",
    "crimes.take(1)"
   ]
  },
  {
   "cell_type": "code",
   "execution_count": 9,
   "metadata": {},
   "outputs": [
    {
     "data": {
      "text/plain": [
       "[Row(CASE#='JB241987', DATE  OF OCCURRENCE='04/28/2018 10:05:00 PM', BLOCK='009XX N LONG AVE', IUCR='2092', PRIMARY DESCRIPTION='NARCOTICS', SECONDARY DESCRIPTION='SOLICIT NARCOTICS ON PUBLICWAY', LOCATION DESCRIPTION='SIDEWALK', ARREST='Y', DOMESTIC='N', BEAT=1524, WARD=37, FBI CD='18', X COORDINATE=1140136, Y COORDINATE=1905903, LATITUDE=41.897894893, LONGITUDE=-87.760743714, LOCATION='(41.897894893, -87.760743714)', DATE_AS_STRING='04/28/2018', DATE=datetime.date(2018, 4, 28), MONTH=4)]"
      ]
     },
     "execution_count": 9,
     "metadata": {},
     "output_type": "execute_result"
    }
   ],
   "source": [
    "# Add a new MONTH column in the crimes dataframe\n",
    "from pyspark.sql.functions import month\n",
    "\n",
    "crimes = crimes.withColumn('MONTH', month('DATE'))\n",
    "crimes.take(1)"
   ]
  },
  {
   "cell_type": "code",
   "execution_count": 11,
   "metadata": {},
   "outputs": [
    {
     "data": {
      "text/plain": [
       "[Row(MONTH=8, count=24619),\n",
       " Row(MONTH=7, count=24322),\n",
       " Row(MONTH=5, count=24125),\n",
       " Row(MONTH=6, count=23459),\n",
       " Row(MONTH=10, count=22769),\n",
       " Row(MONTH=9, count=22726),\n",
       " Row(MONTH=11, count=21366),\n",
       " Row(MONTH=12, count=20937),\n",
       " Row(MONTH=3, count=20899),\n",
       " Row(MONTH=4, count=20728),\n",
       " Row(MONTH=1, count=20126),\n",
       " Row(MONTH=2, count=17115)]"
      ]
     },
     "execution_count": 11,
     "metadata": {},
     "output_type": "execute_result"
    }
   ],
   "source": [
    "# Time to Profit! Let's see which months have the highest number of crimes!\n",
    "from pyspark.sql.functions import desc\n",
    "\n",
    "crimes.groupBy('MONTH').count().sort(desc(\"count\")).collect()"
   ]
  },
  {
   "cell_type": "code",
   "execution_count": null,
   "metadata": {},
   "outputs": [],
   "source": []
  }
 ],
 "metadata": {
  "kernelspec": {
   "display_name": "Python 3",
   "language": "python",
   "name": "python3"
  },
  "language_info": {
   "codemirror_mode": {
    "name": "ipython",
    "version": 3
   },
   "file_extension": ".py",
   "mimetype": "text/x-python",
   "name": "python",
   "nbconvert_exporter": "python",
   "pygments_lexer": "ipython3",
   "version": "3.8.3"
  }
 },
 "nbformat": 4,
 "nbformat_minor": 2
}
