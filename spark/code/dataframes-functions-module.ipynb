{
 "cells": [
  {
   "cell_type": "markdown",
   "metadata": {},
   "source": [
    "### Spark SQL functions\n",
    "\n",
    "The `spark.sql.functions` module contains a collection of builtin functions which are handy for operating on columns.\n",
    "These functions typically take in a column name (string) as an argument - e.g. `to_date(\"my_date_column_name\")`\n",
    "\n",
    "- API docs: http://spark.apache.org/docs/latest/api/python/pyspark.sql.html#module-pyspark.sql.functions"
   ]
  },
  {
   "cell_type": "code",
   "execution_count": 2,
   "metadata": {},
   "outputs": [
    {
     "name": "stdout",
     "output_type": "stream",
     "text": [
      "+----+------+------+-------+\n",
      "| AGE|gender|height|   name|\n",
      "+----+------+------+-------+\n",
      "|  36|female|   180|    Zoe|\n",
      "|  23|female|   165|  Alice|\n",
      "|  30|  male|   175|   Andy|\n",
      "|  25|female|   170|   Jane|\n",
      "|null|  male|   165|Michael|\n",
      "|  19|  male|   180| Justin|\n",
      "+----+------+------+-------+\n",
      "\n"
     ]
    }
   ],
   "source": [
    "df = spark.read.json(\"../data/people/names.json\")\n",
    "df.show()"
   ]
  },
  {
   "cell_type": "code",
   "execution_count": 3,
   "metadata": {},
   "outputs": [
    {
     "name": "stdout",
     "output_type": "stream",
     "text": [
      "+----------+\n",
      "|count(AGE)|\n",
      "+----------+\n",
      "|         5|\n",
      "+----------+\n",
      "\n",
      "+-------------+\n",
      "|count(height)|\n",
      "+-------------+\n",
      "|            6|\n",
      "+-------------+\n",
      "\n"
     ]
    }
   ],
   "source": [
    "from pyspark.sql.functions import count\n",
    "\n",
    "df.select(count('AGE')).show()\n",
    "df.select(count('height')).show()"
   ]
  },
  {
   "cell_type": "code",
   "execution_count": 4,
   "metadata": {},
   "outputs": [
    {
     "name": "stdout",
     "output_type": "stream",
     "text": [
      "+----------------------+\n",
      "|count(DISTINCT height)|\n",
      "+----------------------+\n",
      "|                     4|\n",
      "+----------------------+\n",
      "\n"
     ]
    }
   ],
   "source": [
    "from pyspark.sql.functions import countDistinct\n",
    "\n",
    "df.select(countDistinct('height')).show() # there are 4 unique height values"
   ]
  },
  {
   "cell_type": "code",
   "execution_count": 5,
   "metadata": {},
   "outputs": [
    {
     "name": "stdout",
     "output_type": "stream",
     "text": [
      "+-----------+\n",
      "|max(height)|\n",
      "+-----------+\n",
      "|        180|\n",
      "+-----------+\n",
      "\n",
      "+-----------+\n",
      "|max(height)|\n",
      "+-----------+\n",
      "|        180|\n",
      "+-----------+\n",
      "\n"
     ]
    }
   ],
   "source": [
    "from pyspark.sql.functions import max, min, avg\n",
    "\n",
    "df.select(max('height')).show() \n",
    "df.select(max(df.height)).show() # 2 ways of doing the same thing"
   ]
  },
  {
   "cell_type": "code",
   "execution_count": 6,
   "metadata": {},
   "outputs": [
    {
     "name": "stdout",
     "output_type": "stream",
     "text": [
      "+-----------+\n",
      "|upper(name)|\n",
      "+-----------+\n",
      "|        ZOE|\n",
      "|      ALICE|\n",
      "|       ANDY|\n",
      "|       JANE|\n",
      "|    MICHAEL|\n",
      "|     JUSTIN|\n",
      "+-----------+\n",
      "\n"
     ]
    }
   ],
   "source": [
    "from pyspark.sql.functions import upper\n",
    "\n",
    "df.select(upper(df.name)).show() "
   ]
  },
  {
   "cell_type": "code",
   "execution_count": 7,
   "metadata": {},
   "outputs": [
    {
     "name": "stdout",
     "output_type": "stream",
     "text": [
      "+-----------------+\n",
      "|split(gender, al)|\n",
      "+-----------------+\n",
      "|         [fem, e]|\n",
      "|         [fem, e]|\n",
      "|           [m, e]|\n",
      "|         [fem, e]|\n",
      "|           [m, e]|\n",
      "|           [m, e]|\n",
      "+-----------------+\n",
      "\n"
     ]
    }
   ],
   "source": [
    "from pyspark.sql.functions import split\n",
    "\n",
    "df.select(split('gender', 'al')).show() "
   ]
  },
  {
   "cell_type": "markdown",
   "metadata": {},
   "source": [
    "### Built-in aggregate functions"
   ]
  },
  {
   "cell_type": "code",
   "execution_count": 10,
   "metadata": {},
   "outputs": [
    {
     "name": "stdout",
     "output_type": "stream",
     "text": [
      "+--------+\n",
      "|avg(age)|\n",
      "+--------+\n",
      "|    26.6|\n",
      "+--------+\n",
      "\n"
     ]
    }
   ],
   "source": [
    "from pyspark.sql.functions import avg\n",
    "\n",
    "df.select(avg('age')).show()\n",
    "\n",
    "# this produces the same output:\n",
    "# df.select('age').groupBy().avg().show()"
   ]
  },
  {
   "cell_type": "code",
   "execution_count": 11,
   "metadata": {},
   "outputs": [
    {
     "name": "stdout",
     "output_type": "stream",
     "text": [
      "+--------+-----------+\n",
      "|avg(age)|avg(height)|\n",
      "+--------+-----------+\n",
      "|    26.6|      172.5|\n",
      "+--------+-----------+\n",
      "\n"
     ]
    }
   ],
   "source": [
    "df.select(avg('age'), avg('height')).show()\n",
    "\n",
    "# this produces the same output:\n",
    "# df.groupBy().avg().show()"
   ]
  },
  {
   "cell_type": "code",
   "execution_count": null,
   "metadata": {},
   "outputs": [],
   "source": []
  }
 ],
 "metadata": {
  "kernelspec": {
   "display_name": "Python 3",
   "language": "python",
   "name": "python3"
  },
  "language_info": {
   "codemirror_mode": {
    "name": "ipython",
    "version": 3
   },
   "file_extension": ".py",
   "mimetype": "text/x-python",
   "name": "python",
   "nbconvert_exporter": "python",
   "pygments_lexer": "ipython3",
   "version": "3.8.3"
  }
 },
 "nbformat": 4,
 "nbformat_minor": 2
}
