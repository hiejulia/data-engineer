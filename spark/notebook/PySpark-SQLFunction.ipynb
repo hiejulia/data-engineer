{
 "cells": [
  {
   "cell_type": "code",
   "execution_count": 1,
   "metadata": {},
   "outputs": [
    {
     "name": "stdout",
     "output_type": "stream",
     "text": [
      "Welcome to\n",
      "      ____              __\n",
      "     / __/__  ___ _____/ /__\n",
      "    _\\ \\/ _ \\/ _ `/ __/  '_/\n",
      "   /__ / .__/\\_,_/_/ /_/\\_\\   version 2.1.1\n",
      "      /_/\n",
      "\n",
      "Using Python version 2.7.12 (default, Nov 19 2016 06:48:10)\n",
      "SparkSession available as 'spark'.\n"
     ]
    }
   ],
   "source": [
    "import os\n",
    "execfile(os.path.join(os.environ[\"SPARK_HOME\"], 'python/pyspark/shell.py'))"
   ]
  },
  {
   "cell_type": "code",
   "execution_count": 2,
   "metadata": {},
   "outputs": [],
   "source": [
    "from pyspark.sql import SparkSession\n",
    "sparkSession = SparkSession.builder.enableHiveSupport().master(\"local[*]\").getOrCreate()"
   ]
  },
  {
   "cell_type": "code",
   "execution_count": 3,
   "metadata": {},
   "outputs": [],
   "source": [
    "from pyspark.sql import functions as f\n",
    "from pyspark.sql import Window"
   ]
  },
  {
   "cell_type": "code",
   "execution_count": 4,
   "metadata": {},
   "outputs": [],
   "source": [
    "data = sparkSession.read.parquet(\"/data/sample264\")"
   ]
  },
  {
   "cell_type": "code",
   "execution_count": 5,
   "metadata": {},
   "outputs": [
    {
     "data": {
      "text/plain": [
       "[Row(userId=13065, trackId=944906, artistId=978428, timestamp=1501588527),\n",
       " Row(userId=101897, trackId=799685, artistId=989262, timestamp=1501555608),\n",
       " Row(userId=215049, trackId=871513, artistId=988199, timestamp=1501604269),\n",
       " Row(userId=309769, trackId=857670, artistId=987809, timestamp=1501540265),\n",
       " Row(userId=397833, trackId=903510, artistId=994595, timestamp=1501597615),\n",
       " Row(userId=501769, trackId=818149, artistId=994975, timestamp=1501577955),\n",
       " Row(userId=601353, trackId=958990, artistId=973098, timestamp=1501602467),\n",
       " Row(userId=710921, trackId=916226, artistId=972031, timestamp=1501611582),\n",
       " Row(userId=6743, trackId=801006, artistId=994339, timestamp=1501584964),\n",
       " Row(userId=152407, trackId=913509, artistId=994334, timestamp=1501571055)]"
      ]
     },
     "execution_count": 5,
     "metadata": {},
     "output_type": "execute_result"
    }
   ],
   "source": [
    "data.take(10)"
   ]
  },
  {
   "cell_type": "code",
   "execution_count": 6,
   "metadata": {},
   "outputs": [],
   "source": [
    "artistTrack = data.groupBy('artistId', 'trackId').count()"
   ]
  },
  {
   "cell_type": "code",
   "execution_count": 7,
   "metadata": {},
   "outputs": [
    {
     "data": {
      "text/plain": [
       "[Row(artistId=986534, trackId=829140, count=5),\n",
       " Row(artistId=995135, trackId=967720, count=25),\n",
       " Row(artistId=983387, trackId=829641, count=135),\n",
       " Row(artistId=969750, trackId=955248, count=29),\n",
       " Row(artistId=970395, trackId=929329, count=23),\n",
       " Row(artistId=988199, trackId=870619, count=82),\n",
       " Row(artistId=995788, trackId=885715, count=16),\n",
       " Row(artistId=987932, trackId=958532, count=36),\n",
       " Row(artistId=1000709, trackId=852389, count=1),\n",
       " Row(artistId=991186, trackId=824970, count=2)]"
      ]
     },
     "execution_count": 7,
     "metadata": {},
     "output_type": "execute_result"
    }
   ],
   "source": [
    "artistTrack.take(10)"
   ]
  },
  {
   "cell_type": "code",
   "execution_count": 8,
   "metadata": {},
   "outputs": [],
   "source": [
    "def norm(df, key1, key2, field, n): \n",
    "    \n",
    "    window = Window.partitionBy(key1).orderBy(f.col(field).desc())\n",
    "        \n",
    "    topsDF = df.withColumn('row_number', f.row_number().over(window)) \\\n",
    "        .filter(f.col('row_number') <= n) \\\n",
    "        .drop(f.col('row_number')) \n",
    "        \n",
    "    tmpDF = topsDF.groupBy(f.col(key1)).agg(f.col(key1), f.sum(f.col(field)).alias('sum_' + field))\n",
    "   \n",
    "    normalizedDF = topsDF.join(tmpDF, key1, 'inner') \\\n",
    "        .withColumn('norm_' + field, f.col(field) / f.col('sum_' + field)) \\\n",
    "        .cache()\n",
    "\n",
    "    return normalizedDF"
   ]
  },
  {
   "cell_type": "code",
   "execution_count": 9,
   "metadata": {},
   "outputs": [],
   "source": [
    "artistTrackNorm = norm(artistTrack, 'artistId', 'trackId', 'count', 100) \\\n",
    "        .select('artistId', 'trackId', 'norm_count')"
   ]
  },
  {
   "cell_type": "code",
   "execution_count": 10,
   "metadata": {},
   "outputs": [
    {
     "data": {
      "text/plain": [
       "[Row(artistId=968694, trackId=827354, norm_count=0.25),\n",
       " Row(artistId=968694, trackId=820606, norm_count=0.25),\n",
       " Row(artistId=968694, trackId=897139, norm_count=0.25),\n",
       " Row(artistId=968694, trackId=925696, norm_count=0.25),\n",
       " Row(artistId=969344, trackId=933592, norm_count=1.0),\n",
       " Row(artistId=969479, trackId=959227, norm_count=0.44166666666666665),\n",
       " Row(artistId=969479, trackId=819606, norm_count=0.2),\n",
       " Row(artistId=969479, trackId=929291, norm_count=0.10833333333333334),\n",
       " Row(artistId=969479, trackId=798826, norm_count=0.075),\n",
       " Row(artistId=969479, trackId=890444, norm_count=0.05),\n",
       " Row(artistId=969479, trackId=826621, norm_count=0.041666666666666664),\n",
       " Row(artistId=969479, trackId=860239, norm_count=0.025),\n",
       " Row(artistId=969479, trackId=882651, norm_count=0.016666666666666666),\n",
       " Row(artistId=969479, trackId=886945, norm_count=0.008333333333333333),\n",
       " Row(artistId=969479, trackId=944749, norm_count=0.008333333333333333),\n",
       " Row(artistId=969479, trackId=927174, norm_count=0.008333333333333333),\n",
       " Row(artistId=969479, trackId=835469, norm_count=0.008333333333333333),\n",
       " Row(artistId=969479, trackId=891099, norm_count=0.008333333333333333),\n",
       " Row(artistId=969923, trackId=917084, norm_count=0.9615384615384616),\n",
       " Row(artistId=969923, trackId=906636, norm_count=0.038461538461538464),\n",
       " Row(artistId=971217, trackId=912587, norm_count=1.0),\n",
       " Row(artistId=972191, trackId=800412, norm_count=0.7346938775510204),\n",
       " Row(artistId=972191, trackId=875946, norm_count=0.09183673469387756),\n",
       " Row(artistId=972191, trackId=938888, norm_count=0.07142857142857142),\n",
       " Row(artistId=972191, trackId=865573, norm_count=0.04081632653061224),\n",
       " Row(artistId=972191, trackId=918290, norm_count=0.04081632653061224),\n",
       " Row(artistId=972191, trackId=863486, norm_count=0.02040816326530612),\n",
       " Row(artistId=972783, trackId=850892, norm_count=1.0),\n",
       " Row(artistId=973051, trackId=835465, norm_count=0.6153846153846154),\n",
       " Row(artistId=973051, trackId=873398, norm_count=0.3076923076923077)]"
      ]
     },
     "execution_count": 10,
     "metadata": {},
     "output_type": "execute_result"
    }
   ],
   "source": [
    "artistTrackNorm.take(30)"
   ]
  },
  {
   "cell_type": "code",
   "execution_count": 11,
   "metadata": {},
   "outputs": [],
   "source": [
    "window = Window.orderBy(f.col('norm_count').desc())\n",
    "    \n",
    "artistTrackList = artistTrackNorm.withColumn('position', f.rank().over(window)) \\\n",
    "    .filter(f.col('position') < 40) \\\n",
    "    .orderBy('artistId', 'trackId') \\\n",
    "    .select('artistId', 'trackId') \\\n",
    "    .take(40)"
   ]
  },
  {
   "cell_type": "code",
   "execution_count": 12,
   "metadata": {},
   "outputs": [
    {
     "name": "stdout",
     "output_type": "stream",
     "text": [
      "967993 869415\n",
      "967998 947428\n",
      "968004 927380\n",
      "968017 859321\n",
      "968022 852786\n",
      "968034 807671\n",
      "968038 964150\n",
      "968042 835935\n",
      "968043 913568\n",
      "968046 935077\n",
      "968047 806127\n",
      "968065 907906\n",
      "968073 964586\n",
      "968086 813446\n",
      "968092 837129\n",
      "968118 914441\n",
      "968125 821410\n",
      "968140 953008\n",
      "968148 877445\n",
      "968161 809793\n",
      "968163 803065\n",
      "968168 876119\n",
      "968189 858639\n",
      "968221 896937\n",
      "968224 892880\n",
      "968232 825536\n",
      "968237 932845\n",
      "968238 939177\n",
      "968241 879045\n",
      "968242 911250\n",
      "968248 953554\n",
      "968255 808494\n",
      "968259 880230\n",
      "968265 950148\n",
      "968266 824437\n",
      "968269 913243\n",
      "968272 816049\n",
      "968278 946743\n",
      "968285 847460\n",
      "968286 940006\n"
     ]
    }
   ],
   "source": [
    "for val in artistTrackList:\n",
    "    print \"%s %s\" % val"
   ]
  }
 ],
 "metadata": {
  "kernelspec": {
   "display_name": "Python 3",
   "language": "python",
   "name": "python3"
  },
  "language_info": {
   "codemirror_mode": {
    "name": "ipython",
    "version": 3
   },
   "file_extension": ".py",
   "mimetype": "text/x-python",
   "name": "python",
   "nbconvert_exporter": "python",
   "pygments_lexer": "ipython3",
   "version": "3.8.3"
  }
 },
 "nbformat": 4,
 "nbformat_minor": 2
}
