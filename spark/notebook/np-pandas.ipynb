{
 "cells": [
  {
   "cell_type": "code",
   "execution_count": 10,
   "metadata": {},
   "outputs": [],
   "source": [
    "import pandas as pd\n",
    "import numpy as np"
   ]
  },
  {
   "cell_type": "code",
   "execution_count": 2,
   "metadata": {},
   "outputs": [
    {
     "data": {
      "text/plain": [
       "10000"
      ]
     },
     "execution_count": 2,
     "metadata": {},
     "output_type": "execute_result"
    }
   ],
   "source": [
    "data = pd.read_csv('sample10000.csv')\n",
    "N = len(data)\n",
    "N"
   ]
  },
  {
   "cell_type": "code",
   "execution_count": 3,
   "metadata": {},
   "outputs": [
    {
     "data": {
      "text/html": [
       "<div>\n",
       "<style scoped>\n",
       "    .dataframe tbody tr th:only-of-type {\n",
       "        vertical-align: middle;\n",
       "    }\n",
       "\n",
       "    .dataframe tbody tr th {\n",
       "        vertical-align: top;\n",
       "    }\n",
       "\n",
       "    .dataframe thead th {\n",
       "        text-align: right;\n",
       "    }\n",
       "</style>\n",
       "<table border=\"1\" class=\"dataframe\">\n",
       "  <thead>\n",
       "    <tr style=\"text-align: right;\">\n",
       "      <th></th>\n",
       "      <th>VendorID</th>\n",
       "      <th>tpep_pickup_datetime</th>\n",
       "      <th>tpep_dropoff_datetime</th>\n",
       "      <th>passenger_count</th>\n",
       "      <th>trip_distance</th>\n",
       "      <th>RatecodeID</th>\n",
       "      <th>store_and_fwd_flag</th>\n",
       "      <th>PULocationID</th>\n",
       "      <th>DOLocationID</th>\n",
       "      <th>payment_type</th>\n",
       "      <th>fare_amount</th>\n",
       "      <th>extra</th>\n",
       "      <th>mta_tax</th>\n",
       "      <th>tip_amount</th>\n",
       "      <th>tolls_amount</th>\n",
       "      <th>improvement_surcharge</th>\n",
       "      <th>total_amount</th>\n",
       "    </tr>\n",
       "  </thead>\n",
       "  <tbody>\n",
       "    <tr>\n",
       "      <th>0</th>\n",
       "      <td>2</td>\n",
       "      <td>2016-12-19 20:13:04</td>\n",
       "      <td>2016-12-19 20:16:58</td>\n",
       "      <td>1</td>\n",
       "      <td>0.87</td>\n",
       "      <td>1</td>\n",
       "      <td>N</td>\n",
       "      <td>238</td>\n",
       "      <td>142</td>\n",
       "      <td>1</td>\n",
       "      <td>5.0</td>\n",
       "      <td>0.5</td>\n",
       "      <td>0.5</td>\n",
       "      <td>1.50</td>\n",
       "      <td>0.0</td>\n",
       "      <td>0.3</td>\n",
       "      <td>7.80</td>\n",
       "    </tr>\n",
       "    <tr>\n",
       "      <th>1</th>\n",
       "      <td>1</td>\n",
       "      <td>2016-12-27 19:28:48</td>\n",
       "      <td>2016-12-27 19:30:31</td>\n",
       "      <td>1</td>\n",
       "      <td>0.10</td>\n",
       "      <td>1</td>\n",
       "      <td>N</td>\n",
       "      <td>231</td>\n",
       "      <td>144</td>\n",
       "      <td>2</td>\n",
       "      <td>3.0</td>\n",
       "      <td>1.0</td>\n",
       "      <td>0.5</td>\n",
       "      <td>0.00</td>\n",
       "      <td>0.0</td>\n",
       "      <td>0.3</td>\n",
       "      <td>4.80</td>\n",
       "    </tr>\n",
       "    <tr>\n",
       "      <th>2</th>\n",
       "      <td>1</td>\n",
       "      <td>2016-12-17 00:57:37</td>\n",
       "      <td>2016-12-17 01:10:37</td>\n",
       "      <td>3</td>\n",
       "      <td>2.30</td>\n",
       "      <td>1</td>\n",
       "      <td>N</td>\n",
       "      <td>90</td>\n",
       "      <td>233</td>\n",
       "      <td>1</td>\n",
       "      <td>11.0</td>\n",
       "      <td>0.5</td>\n",
       "      <td>0.5</td>\n",
       "      <td>2.45</td>\n",
       "      <td>0.0</td>\n",
       "      <td>0.3</td>\n",
       "      <td>14.75</td>\n",
       "    </tr>\n",
       "    <tr>\n",
       "      <th>3</th>\n",
       "      <td>1</td>\n",
       "      <td>2016-12-01 20:32:54</td>\n",
       "      <td>2016-12-01 20:52:17</td>\n",
       "      <td>1</td>\n",
       "      <td>5.00</td>\n",
       "      <td>1</td>\n",
       "      <td>N</td>\n",
       "      <td>13</td>\n",
       "      <td>143</td>\n",
       "      <td>1</td>\n",
       "      <td>18.5</td>\n",
       "      <td>0.5</td>\n",
       "      <td>0.5</td>\n",
       "      <td>3.95</td>\n",
       "      <td>0.0</td>\n",
       "      <td>0.3</td>\n",
       "      <td>23.75</td>\n",
       "    </tr>\n",
       "    <tr>\n",
       "      <th>4</th>\n",
       "      <td>2</td>\n",
       "      <td>2016-12-12 19:25:14</td>\n",
       "      <td>2016-12-12 19:34:15</td>\n",
       "      <td>2</td>\n",
       "      <td>1.43</td>\n",
       "      <td>1</td>\n",
       "      <td>N</td>\n",
       "      <td>164</td>\n",
       "      <td>79</td>\n",
       "      <td>1</td>\n",
       "      <td>7.5</td>\n",
       "      <td>1.0</td>\n",
       "      <td>0.5</td>\n",
       "      <td>1.00</td>\n",
       "      <td>0.0</td>\n",
       "      <td>0.3</td>\n",
       "      <td>10.30</td>\n",
       "    </tr>\n",
       "  </tbody>\n",
       "</table>\n",
       "</div>"
      ],
      "text/plain": [
       "   VendorID tpep_pickup_datetime tpep_dropoff_datetime  passenger_count  \\\n",
       "0         2  2016-12-19 20:13:04   2016-12-19 20:16:58                1   \n",
       "1         1  2016-12-27 19:28:48   2016-12-27 19:30:31                1   \n",
       "2         1  2016-12-17 00:57:37   2016-12-17 01:10:37                3   \n",
       "3         1  2016-12-01 20:32:54   2016-12-01 20:52:17                1   \n",
       "4         2  2016-12-12 19:25:14   2016-12-12 19:34:15                2   \n",
       "\n",
       "   trip_distance  RatecodeID store_and_fwd_flag  PULocationID  DOLocationID  \\\n",
       "0           0.87           1                  N           238           142   \n",
       "1           0.10           1                  N           231           144   \n",
       "2           2.30           1                  N            90           233   \n",
       "3           5.00           1                  N            13           143   \n",
       "4           1.43           1                  N           164            79   \n",
       "\n",
       "   payment_type  fare_amount  extra  mta_tax  tip_amount  tolls_amount  \\\n",
       "0             1          5.0    0.5      0.5        1.50           0.0   \n",
       "1             2          3.0    1.0      0.5        0.00           0.0   \n",
       "2             1         11.0    0.5      0.5        2.45           0.0   \n",
       "3             1         18.5    0.5      0.5        3.95           0.0   \n",
       "4             1          7.5    1.0      0.5        1.00           0.0   \n",
       "\n",
       "   improvement_surcharge  total_amount  \n",
       "0                    0.3          7.80  \n",
       "1                    0.3          4.80  \n",
       "2                    0.3         14.75  \n",
       "3                    0.3         23.75  \n",
       "4                    0.3         10.30  "
      ]
     },
     "execution_count": 3,
     "metadata": {},
     "output_type": "execute_result"
    }
   ],
   "source": [
    "data.head()"
   ]
  },
  {
   "cell_type": "code",
   "execution_count": 4,
   "metadata": {},
   "outputs": [
    {
     "data": {
      "text/html": [
       "<div>\n",
       "<style scoped>\n",
       "    .dataframe tbody tr th:only-of-type {\n",
       "        vertical-align: middle;\n",
       "    }\n",
       "\n",
       "    .dataframe tbody tr th {\n",
       "        vertical-align: top;\n",
       "    }\n",
       "\n",
       "    .dataframe thead th {\n",
       "        text-align: right;\n",
       "    }\n",
       "</style>\n",
       "<table border=\"1\" class=\"dataframe\">\n",
       "  <thead>\n",
       "    <tr style=\"text-align: right;\">\n",
       "      <th></th>\n",
       "      <th>VendorID</th>\n",
       "      <th>passenger_count</th>\n",
       "      <th>trip_distance</th>\n",
       "      <th>RatecodeID</th>\n",
       "      <th>PULocationID</th>\n",
       "      <th>DOLocationID</th>\n",
       "      <th>payment_type</th>\n",
       "      <th>fare_amount</th>\n",
       "      <th>extra</th>\n",
       "      <th>mta_tax</th>\n",
       "      <th>tip_amount</th>\n",
       "      <th>tolls_amount</th>\n",
       "      <th>improvement_surcharge</th>\n",
       "      <th>total_amount</th>\n",
       "    </tr>\n",
       "  </thead>\n",
       "  <tbody>\n",
       "    <tr>\n",
       "      <th>count</th>\n",
       "      <td>10000.000000</td>\n",
       "      <td>10000.000000</td>\n",
       "      <td>10000.000000</td>\n",
       "      <td>10000.000000</td>\n",
       "      <td>10000.000000</td>\n",
       "      <td>10000.00000</td>\n",
       "      <td>10000.000000</td>\n",
       "      <td>10000.000000</td>\n",
       "      <td>10000.000000</td>\n",
       "      <td>10000.000000</td>\n",
       "      <td>10000.000000</td>\n",
       "      <td>10000.000000</td>\n",
       "      <td>10000.000000</td>\n",
       "      <td>10000.000000</td>\n",
       "    </tr>\n",
       "    <tr>\n",
       "      <th>mean</th>\n",
       "      <td>1.536700</td>\n",
       "      <td>1.636800</td>\n",
       "      <td>2.881264</td>\n",
       "      <td>1.040700</td>\n",
       "      <td>162.961100</td>\n",
       "      <td>161.26480</td>\n",
       "      <td>1.367500</td>\n",
       "      <td>12.909326</td>\n",
       "      <td>0.336300</td>\n",
       "      <td>0.497100</td>\n",
       "      <td>1.741332</td>\n",
       "      <td>0.289889</td>\n",
       "      <td>0.299670</td>\n",
       "      <td>16.077712</td>\n",
       "    </tr>\n",
       "    <tr>\n",
       "      <th>std</th>\n",
       "      <td>0.498676</td>\n",
       "      <td>1.262634</td>\n",
       "      <td>3.583925</td>\n",
       "      <td>0.296061</td>\n",
       "      <td>67.012232</td>\n",
       "      <td>71.59232</td>\n",
       "      <td>0.499268</td>\n",
       "      <td>10.595165</td>\n",
       "      <td>0.444153</td>\n",
       "      <td>0.041131</td>\n",
       "      <td>2.365474</td>\n",
       "      <td>1.404553</td>\n",
       "      <td>0.013744</td>\n",
       "      <td>13.107409</td>\n",
       "    </tr>\n",
       "    <tr>\n",
       "      <th>min</th>\n",
       "      <td>1.000000</td>\n",
       "      <td>1.000000</td>\n",
       "      <td>0.000000</td>\n",
       "      <td>1.000000</td>\n",
       "      <td>1.000000</td>\n",
       "      <td>1.00000</td>\n",
       "      <td>1.000000</td>\n",
       "      <td>-5.500000</td>\n",
       "      <td>-1.000000</td>\n",
       "      <td>-0.500000</td>\n",
       "      <td>0.000000</td>\n",
       "      <td>0.000000</td>\n",
       "      <td>-0.300000</td>\n",
       "      <td>-6.800000</td>\n",
       "    </tr>\n",
       "    <tr>\n",
       "      <th>25%</th>\n",
       "      <td>1.000000</td>\n",
       "      <td>1.000000</td>\n",
       "      <td>1.000000</td>\n",
       "      <td>1.000000</td>\n",
       "      <td>114.000000</td>\n",
       "      <td>107.00000</td>\n",
       "      <td>1.000000</td>\n",
       "      <td>6.500000</td>\n",
       "      <td>0.000000</td>\n",
       "      <td>0.500000</td>\n",
       "      <td>0.000000</td>\n",
       "      <td>0.000000</td>\n",
       "      <td>0.300000</td>\n",
       "      <td>8.500000</td>\n",
       "    </tr>\n",
       "    <tr>\n",
       "      <th>50%</th>\n",
       "      <td>2.000000</td>\n",
       "      <td>1.000000</td>\n",
       "      <td>1.645000</td>\n",
       "      <td>1.000000</td>\n",
       "      <td>162.000000</td>\n",
       "      <td>162.00000</td>\n",
       "      <td>1.000000</td>\n",
       "      <td>9.500000</td>\n",
       "      <td>0.000000</td>\n",
       "      <td>0.500000</td>\n",
       "      <td>1.250000</td>\n",
       "      <td>0.000000</td>\n",
       "      <td>0.300000</td>\n",
       "      <td>11.800000</td>\n",
       "    </tr>\n",
       "    <tr>\n",
       "      <th>75%</th>\n",
       "      <td>2.000000</td>\n",
       "      <td>2.000000</td>\n",
       "      <td>3.032500</td>\n",
       "      <td>1.000000</td>\n",
       "      <td>233.000000</td>\n",
       "      <td>234.00000</td>\n",
       "      <td>2.000000</td>\n",
       "      <td>15.000000</td>\n",
       "      <td>0.500000</td>\n",
       "      <td>0.500000</td>\n",
       "      <td>2.360000</td>\n",
       "      <td>0.000000</td>\n",
       "      <td>0.300000</td>\n",
       "      <td>17.800000</td>\n",
       "    </tr>\n",
       "    <tr>\n",
       "      <th>max</th>\n",
       "      <td>2.000000</td>\n",
       "      <td>6.000000</td>\n",
       "      <td>30.800000</td>\n",
       "      <td>5.000000</td>\n",
       "      <td>265.000000</td>\n",
       "      <td>265.00000</td>\n",
       "      <td>4.000000</td>\n",
       "      <td>124.000000</td>\n",
       "      <td>4.500000</td>\n",
       "      <td>0.500000</td>\n",
       "      <td>28.740000</td>\n",
       "      <td>21.500000</td>\n",
       "      <td>0.300000</td>\n",
       "      <td>125.300000</td>\n",
       "    </tr>\n",
       "  </tbody>\n",
       "</table>\n",
       "</div>"
      ],
      "text/plain": [
       "           VendorID  passenger_count  trip_distance    RatecodeID  \\\n",
       "count  10000.000000     10000.000000   10000.000000  10000.000000   \n",
       "mean       1.536700         1.636800       2.881264      1.040700   \n",
       "std        0.498676         1.262634       3.583925      0.296061   \n",
       "min        1.000000         1.000000       0.000000      1.000000   \n",
       "25%        1.000000         1.000000       1.000000      1.000000   \n",
       "50%        2.000000         1.000000       1.645000      1.000000   \n",
       "75%        2.000000         2.000000       3.032500      1.000000   \n",
       "max        2.000000         6.000000      30.800000      5.000000   \n",
       "\n",
       "       PULocationID  DOLocationID  payment_type   fare_amount         extra  \\\n",
       "count  10000.000000   10000.00000  10000.000000  10000.000000  10000.000000   \n",
       "mean     162.961100     161.26480      1.367500     12.909326      0.336300   \n",
       "std       67.012232      71.59232      0.499268     10.595165      0.444153   \n",
       "min        1.000000       1.00000      1.000000     -5.500000     -1.000000   \n",
       "25%      114.000000     107.00000      1.000000      6.500000      0.000000   \n",
       "50%      162.000000     162.00000      1.000000      9.500000      0.000000   \n",
       "75%      233.000000     234.00000      2.000000     15.000000      0.500000   \n",
       "max      265.000000     265.00000      4.000000    124.000000      4.500000   \n",
       "\n",
       "            mta_tax    tip_amount  tolls_amount  improvement_surcharge  \\\n",
       "count  10000.000000  10000.000000  10000.000000           10000.000000   \n",
       "mean       0.497100      1.741332      0.289889               0.299670   \n",
       "std        0.041131      2.365474      1.404553               0.013744   \n",
       "min       -0.500000      0.000000      0.000000              -0.300000   \n",
       "25%        0.500000      0.000000      0.000000               0.300000   \n",
       "50%        0.500000      1.250000      0.000000               0.300000   \n",
       "75%        0.500000      2.360000      0.000000               0.300000   \n",
       "max        0.500000     28.740000     21.500000               0.300000   \n",
       "\n",
       "       total_amount  \n",
       "count  10000.000000  \n",
       "mean      16.077712  \n",
       "std       13.107409  \n",
       "min       -6.800000  \n",
       "25%        8.500000  \n",
       "50%       11.800000  \n",
       "75%       17.800000  \n",
       "max      125.300000  "
      ]
     },
     "execution_count": 4,
     "metadata": {},
     "output_type": "execute_result"
    }
   ],
   "source": [
    "data.describe()"
   ]
  },
  {
   "cell_type": "code",
   "execution_count": 5,
   "metadata": {},
   "outputs": [
    {
     "data": {
      "text/plain": [
       "3543"
      ]
     },
     "execution_count": 5,
     "metadata": {},
     "output_type": "execute_result"
    }
   ],
   "source": [
    "count = data['payment_type'].value_counts()[2]\n",
    "count"
   ]
  },
  {
   "cell_type": "code",
   "execution_count": 6,
   "metadata": {},
   "outputs": [],
   "source": [
    "cash_payers = data[data['payment_type'] == 2]"
   ]
  },
  {
   "cell_type": "code",
   "execution_count": 14,
   "metadata": {},
   "outputs": [
    {
     "data": {
      "text/plain": [
       "(0.34087393929282994, 0.36772606070717007)"
      ]
     },
     "execution_count": 14,
     "metadata": {},
     "output_type": "execute_result"
    }
   ],
   "source": [
    "from statsmodels.stats.proportion import proportion_confint\n",
    "conf_int = proportion_confint(count, N, alpha=0.005)\n",
    "conf_int"
   ]
  },
  {
   "cell_type": "code",
   "execution_count": 9,
   "metadata": {},
   "outputs": [
    {
     "data": {
      "text/plain": [
       "2.8812639999999945"
      ]
     },
     "execution_count": 9,
     "metadata": {},
     "output_type": "execute_result"
    }
   ],
   "source": [
    "trip_distance_mean = data['trip_distance'].mean()\n",
    "trip_distance_mean"
   ]
  },
  {
   "cell_type": "code",
   "execution_count": 11,
   "metadata": {},
   "outputs": [
    {
     "data": {
      "text/plain": [
       "0.035841046211059255"
      ]
     },
     "execution_count": 11,
     "metadata": {},
     "output_type": "execute_result"
    }
   ],
   "source": [
    "trip_distance_std = data['trip_distance'].std() / np.sqrt(N-1)\n",
    "trip_distance_std"
   ]
  },
  {
   "cell_type": "code",
   "execution_count": 13,
   "metadata": {},
   "outputs": [
    {
     "data": {
      "text/plain": [
       "(2.8110118487985973, 2.9515161512014023)"
      ]
     },
     "execution_count": 13,
     "metadata": {},
     "output_type": "execute_result"
    }
   ],
   "source": [
    "from statsmodels.stats.weightstats import DescrStatsW\n",
    "conf_int = DescrStatsW(data['trip_distance']).tconfint_mean()\n",
    "conf_int"
   ]
  },
  {
   "cell_type": "code",
   "execution_count": null,
   "metadata": {},
   "outputs": [],
   "source": []
  }
 ],
 "metadata": {
  "kernelspec": {
   "display_name": "Python 3",
   "language": "python",
   "name": "python3"
  },
  "language_info": {
   "codemirror_mode": {
    "name": "ipython",
    "version": 3
   },
   "file_extension": ".py",
   "mimetype": "text/x-python",
   "name": "python",
   "nbconvert_exporter": "python",
   "pygments_lexer": "ipython3",
   "version": "3.8.3"
  }
 },
 "nbformat": 4,
 "nbformat_minor": 2
}
