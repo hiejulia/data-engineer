{
 "cells": [
  {
   "cell_type": "code",
   "execution_count": 1,
   "metadata": {},
   "outputs": [
    {
     "name": "stdout",
     "output_type": "stream",
     "text": [
      "Welcome to\n",
      "      ____              __\n",
      "     / __/__  ___ _____/ /__\n",
      "    _\\ \\/ _ \\/ _ `/ __/  '_/\n",
      "   /__ / .__/\\_,_/_/ /_/\\_\\   version 2.1.1\n",
      "      /_/\n",
      "\n",
      "Using Python version 2.7.12 (default, Nov 19 2016 06:48:10)\n",
      "SparkSession available as 'spark'.\n"
     ]
    }
   ],
   "source": [
    "import os\n",
    "execfile(os.path.join(os.environ[\"SPARK_HOME\"], 'python/pyspark/shell.py'))"
   ]
  },
  {
   "cell_type": "code",
   "execution_count": 2,
   "metadata": {},
   "outputs": [],
   "source": [
    "from pyspark.sql import SparkSession\n",
    "sparkSession = SparkSession.builder.enableHiveSupport().master(\"local[*]\").getOrCreate()"
   ]
  },
  {
   "cell_type": "code",
   "execution_count": 3,
   "metadata": {},
   "outputs": [],
   "source": [
    "from pyspark.sql import functions as f\n",
    "from pyspark.sql import Window"
   ]
  },
  {
   "cell_type": "code",
   "execution_count": 4,
   "metadata": {},
   "outputs": [],
   "source": [
    "data = sparkSession.read.parquet(\"/data/sample264\")"
   ]
  },
  {
   "cell_type": "code",
   "execution_count": 5,
   "metadata": {},
   "outputs": [
    {
     "data": {
      "text/plain": [
       "[Row(userId=13065, trackId=944906, artistId=978428, timestamp=1501588527),\n",
       " Row(userId=101897, trackId=799685, artistId=989262, timestamp=1501555608),\n",
       " Row(userId=215049, trackId=871513, artistId=988199, timestamp=1501604269),\n",
       " Row(userId=309769, trackId=857670, artistId=987809, timestamp=1501540265),\n",
       " Row(userId=397833, trackId=903510, artistId=994595, timestamp=1501597615),\n",
       " Row(userId=501769, trackId=818149, artistId=994975, timestamp=1501577955),\n",
       " Row(userId=601353, trackId=958990, artistId=973098, timestamp=1501602467),\n",
       " Row(userId=710921, trackId=916226, artistId=972031, timestamp=1501611582),\n",
       " Row(userId=6743, trackId=801006, artistId=994339, timestamp=1501584964),\n",
       " Row(userId=152407, trackId=913509, artistId=994334, timestamp=1501571055)]"
      ]
     },
     "execution_count": 5,
     "metadata": {},
     "output_type": "execute_result"
    }
   ],
   "source": [
    "data.take(10)"
   ]
  },
  {
   "cell_type": "code",
   "execution_count": 6,
   "metadata": {},
   "outputs": [],
   "source": [
    "userArtist = data.groupBy('userId', 'artistId').count()"
   ]
  },
  {
   "cell_type": "code",
   "execution_count": 7,
   "metadata": {},
   "outputs": [
    {
     "data": {
      "text/plain": [
       "[Row(userId=484714, artistId=1000564, count=2),\n",
       " Row(userId=685378, artistId=974357, count=8),\n",
       " Row(userId=531701, artistId=969480, count=5),\n",
       " Row(userId=341232, artistId=977291, count=1),\n",
       " Row(userId=554281, artistId=985827, count=1),\n",
       " Row(userId=395708, artistId=975337, count=1),\n",
       " Row(userId=646244, artistId=1001300, count=2),\n",
       " Row(userId=108592, artistId=991179, count=1),\n",
       " Row(userId=245658, artistId=997265, count=3),\n",
       " Row(userId=485786, artistId=993060, count=20)]"
      ]
     },
     "execution_count": 7,
     "metadata": {},
     "output_type": "execute_result"
    }
   ],
   "source": [
    "userArtist.take(10)"
   ]
  },
  {
   "cell_type": "code",
   "execution_count": 8,
   "metadata": {},
   "outputs": [],
   "source": [
    "def norm(df, key1, key2, field, n): \n",
    "    \n",
    "    window = Window.partitionBy(key1).orderBy(f.col(field).desc())\n",
    "        \n",
    "    topsDF = df.withColumn('row_number', f.row_number().over(window)) \\\n",
    "        .filter(f.col('row_number') <= n) \\\n",
    "        .drop(f.col('row_number')) \n",
    "        \n",
    "    tmpDF = topsDF.groupBy(f.col(key1)).agg(f.col(key1), f.sum(f.col(field)).alias('sum_' + field))\n",
    "   \n",
    "    normalizedDF = topsDF.join(tmpDF, key1, 'inner') \\\n",
    "        .withColumn('norm_' + field, f.col(field) / f.col('sum_' + field)) \\\n",
    "        .cache()\n",
    "\n",
    "    return normalizedDF"
   ]
  },
  {
   "cell_type": "code",
   "execution_count": 9,
   "metadata": {},
   "outputs": [],
   "source": [
    "userArtistNorm = norm(userArtist, 'userId', 'artistId', 'count', 100) \\\n",
    "        .select('userId', 'artistId', 'norm_count')"
   ]
  },
  {
   "cell_type": "code",
   "execution_count": 10,
   "metadata": {},
   "outputs": [
    {
     "data": {
      "text/plain": [
       "[Row(userId=3175, artistId=981306, norm_count=0.2222222222222222),\n",
       " Row(userId=3175, artistId=995274, norm_count=0.1111111111111111),\n",
       " Row(userId=3175, artistId=986492, norm_count=0.1111111111111111),\n",
       " Row(userId=3175, artistId=976051, norm_count=0.1111111111111111),\n",
       " Row(userId=3175, artistId=1000709, norm_count=0.1111111111111111),\n",
       " Row(userId=3175, artistId=984798, norm_count=0.1111111111111111),\n",
       " Row(userId=3175, artistId=969751, norm_count=0.1111111111111111),\n",
       " Row(userId=3175, artistId=1000564, norm_count=0.1111111111111111),\n",
       " Row(userId=5518, artistId=978963, norm_count=0.5),\n",
       " Row(userId=5518, artistId=984128, norm_count=0.3333333333333333),\n",
       " Row(userId=5518, artistId=969429, norm_count=0.16666666666666666),\n",
       " Row(userId=5803, artistId=982335, norm_count=1.0),\n",
       " Row(userId=6654, artistId=1002715, norm_count=0.2),\n",
       " Row(userId=6654, artistId=985758, norm_count=0.2),\n",
       " Row(userId=6654, artistId=987351, norm_count=0.2),\n",
       " Row(userId=6654, artistId=987809, norm_count=0.2),\n",
       " Row(userId=6654, artistId=995126, norm_count=0.2),\n",
       " Row(userId=7253, artistId=971296, norm_count=0.125),\n",
       " Row(userId=7253, artistId=1000423, norm_count=0.125),\n",
       " Row(userId=7253, artistId=1004591, norm_count=0.125),\n",
       " Row(userId=7253, artistId=977585, norm_count=0.125),\n",
       " Row(userId=7253, artistId=984476, norm_count=0.125),\n",
       " Row(userId=7253, artistId=1004234, norm_count=0.125),\n",
       " Row(userId=7253, artistId=1003241, norm_count=0.125),\n",
       " Row(userId=7253, artistId=997327, norm_count=0.125),\n",
       " Row(userId=7340, artistId=1000878, norm_count=0.3333333333333333),\n",
       " Row(userId=7340, artistId=999012, norm_count=0.2222222222222222),\n",
       " Row(userId=7340, artistId=983446, norm_count=0.1111111111111111),\n",
       " Row(userId=7340, artistId=999684, norm_count=0.1111111111111111),\n",
       " Row(userId=7340, artistId=991455, norm_count=0.1111111111111111)]"
      ]
     },
     "execution_count": 10,
     "metadata": {},
     "output_type": "execute_result"
    }
   ],
   "source": [
    "userArtistNorm.take(30)"
   ]
  },
  {
   "cell_type": "code",
   "execution_count": 11,
   "metadata": {},
   "outputs": [],
   "source": [
    "window = Window.orderBy(f.col('norm_count').desc())\n",
    "    \n",
    "userArtistList = userArtistNorm.withColumn('position', f.rank().over(window)) \\\n",
    "    .filter(f.col('position') < 40) \\\n",
    "    .orderBy('userId', 'artistId') \\\n",
    "    .select('userId', 'artistId') \\\n",
    "    .take(40)"
   ]
  },
  {
   "cell_type": "code",
   "execution_count": 12,
   "metadata": {},
   "outputs": [
    {
     "name": "stdout",
     "output_type": "stream",
     "text": [
      "66 993426\n",
      "116 974937\n",
      "128 1003021\n",
      "131 983068\n",
      "195 997265\n",
      "215 991696\n",
      "235 990642\n",
      "288 1000564\n",
      "300 1003362\n",
      "321 986172\n",
      "328 967986\n",
      "333 1000416\n",
      "346 982037\n",
      "356 974846\n",
      "374 1003167\n",
      "428 993161\n",
      "431 969340\n",
      "445 970387\n",
      "488 970525\n",
      "542 969751\n",
      "612 987351\n",
      "617 970240\n",
      "649 973851\n",
      "658 973232\n",
      "662 975279\n",
      "698 995788\n",
      "708 968848\n",
      "746 972032\n",
      "747 972032\n",
      "776 997265\n",
      "784 969853\n",
      "806 995126\n",
      "811 996436\n",
      "837 989262\n",
      "901 988199\n",
      "923 977066\n",
      "934 990860\n",
      "957 991171\n",
      "989 975339\n",
      "999 968823\n"
     ]
    }
   ],
   "source": [
    "for val in userArtistList:\n",
    "    print \"%s %s\" % val"
   ]
  }
 ],
 "metadata": {
  "kernelspec": {
   "display_name": "Python 2",
   "language": "python",
   "name": "python2"
  },
  "language_info": {
   "codemirror_mode": {
    "name": "ipython",
    "version": 2
   },
   "file_extension": ".py",
   "mimetype": "text/x-python",
   "name": "python",
   "nbconvert_exporter": "python",
   "pygments_lexer": "ipython2",
   "version": "2.7.12"
  }
 },
 "nbformat": 4,
 "nbformat_minor": 2
}
