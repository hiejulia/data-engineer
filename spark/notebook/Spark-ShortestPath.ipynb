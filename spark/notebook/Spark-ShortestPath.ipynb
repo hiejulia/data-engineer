{
 "cells": [
  {
   "cell_type": "code",
   "execution_count": 1,
   "metadata": {},
   "outputs": [],
   "source": [
    "from pyspark import SparkConf, SparkContext\n",
    "sc = SparkContext(conf=SparkConf().setAppName('myApp').setMaster('local[*]'))"
   ]
  },
  {
   "cell_type": "code",
   "execution_count": 2,
   "metadata": {},
   "outputs": [],
   "source": [
    "def parse_edge(s):\n",
    "    user, follower = s.split(\"\\t\")\n",
    "    return (int(user), int(follower))"
   ]
  },
  {
   "cell_type": "code",
   "execution_count": 3,
   "metadata": {},
   "outputs": [],
   "source": [
    "def step(item):\n",
    "    cur_v, path, next_v = item[0], item[1][0], item[1][1]\n",
    "    return (next_v, path+[next_v])"
   ]
  },
  {
   "cell_type": "code",
   "execution_count": 4,
   "metadata": {},
   "outputs": [],
   "source": [
    "def complete(item):\n",
    "    v, old_p, new_p = item[0], item[1][0], item[1][1]\n",
    "    return (v, old_p if old_p is not None else new_p)"
   ]
  },
  {
   "cell_type": "code",
   "execution_count": 5,
   "metadata": {},
   "outputs": [],
   "source": [
    "n = 400  # number of partitions\n",
    "edges = sc.textFile(\"/data/twitter/twitter_sample_small.txt\").map(parse_edge).cache()\n",
    "forward_edges = edges.map(lambda e: (e[1], e[0])).partitionBy(n).persist()"
   ]
  },
  {
   "cell_type": "code",
   "execution_count": 6,
   "metadata": {},
   "outputs": [],
   "source": [
    "start, end = 12, 34\n",
    "paths = sc.parallelize([(start, [start])]).partitionBy(n)\n",
    "\n",
    "while not paths.filter(lambda x: x[0] == end).count():\n",
    "    paths = paths.join(forward_edges, n).map(step)"
   ]
  },
  {
   "cell_type": "code",
   "execution_count": 7,
   "metadata": {},
   "outputs": [
    {
     "name": "stdout",
     "output_type": "stream",
     "text": [
      "12,422,53,52,107,20,23,274,34\n"
     ]
    }
   ],
   "source": [
    "path = paths.filter(lambda x: x[0] == end).collect()[0][1]\n",
    "print(','.join(map(str, path)))"
   ]
  }
 ],
 "metadata": {
  "kernelspec": {
   "display_name": "Python 3",
   "language": "python",
   "name": "python3"
  },
  "language_info": {
   "codemirror_mode": {
    "name": "ipython",
    "version": 3
   },
   "file_extension": ".py",
   "mimetype": "text/x-python",
   "name": "python",
   "nbconvert_exporter": "python",
   "pygments_lexer": "ipython3",
   "version": "3.8.3"
  }
 },
 "nbformat": 4,
 "nbformat_minor": 2
}
