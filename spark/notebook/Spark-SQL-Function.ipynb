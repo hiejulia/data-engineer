{
 "cells": [
  {
   "cell_type": "code",
   "execution_count": 1,
   "metadata": {},
   "outputs": [
    {
     "name": "stdout",
     "output_type": "stream",
     "text": [
      "Welcome to\n",
      "      ____              __\n",
      "     / __/__  ___ _____/ /__\n",
      "    _\\ \\/ _ \\/ _ `/ __/  '_/\n",
      "   /__ / .__/\\_,_/_/ /_/\\_\\   version 2.1.1\n",
      "      /_/\n",
      "\n",
      "Using Python version 2.7.12 (default, Nov 19 2016 06:48:10)\n",
      "SparkSession available as 'spark'.\n"
     ]
    }
   ],
   "source": [
    "import os\n",
    "execfile(os.path.join(os.environ[\"SPARK_HOME\"], 'python/pyspark/shell.py'))"
   ]
  },
  {
   "cell_type": "code",
   "execution_count": 2,
   "metadata": {},
   "outputs": [],
   "source": [
    "from pyspark.sql import SparkSession\n",
    "sparkSession = SparkSession.builder.enableHiveSupport().master(\"local[*]\").getOrCreate()"
   ]
  },
  {
   "cell_type": "code",
   "execution_count": 3,
   "metadata": {},
   "outputs": [],
   "source": [
    "from pyspark.sql import functions as f\n",
    "from pyspark.sql import Window"
   ]
  },
  {
   "cell_type": "code",
   "execution_count": 4,
   "metadata": {},
   "outputs": [],
   "source": [
    "data = sparkSession.read.parquet(\"/data/sample264\")\n",
    "meta = sparkSession.read.parquet(\"/data/meta\")"
   ]
  },
  {
   "cell_type": "code",
   "execution_count": 5,
   "metadata": {},
   "outputs": [
    {
     "data": {
      "text/plain": [
       "[Row(userId=13065, trackId=944906, artistId=978428, timestamp=1501588527),\n",
       " Row(userId=101897, trackId=799685, artistId=989262, timestamp=1501555608),\n",
       " Row(userId=215049, trackId=871513, artistId=988199, timestamp=1501604269),\n",
       " Row(userId=309769, trackId=857670, artistId=987809, timestamp=1501540265),\n",
       " Row(userId=397833, trackId=903510, artistId=994595, timestamp=1501597615),\n",
       " Row(userId=501769, trackId=818149, artistId=994975, timestamp=1501577955),\n",
       " Row(userId=601353, trackId=958990, artistId=973098, timestamp=1501602467),\n",
       " Row(userId=710921, trackId=916226, artistId=972031, timestamp=1501611582),\n",
       " Row(userId=6743, trackId=801006, artistId=994339, timestamp=1501584964),\n",
       " Row(userId=152407, trackId=913509, artistId=994334, timestamp=1501571055)]"
      ]
     },
     "execution_count": 5,
     "metadata": {},
     "output_type": "execute_result"
    }
   ],
   "source": [
    "data.take(10)"
   ]
  },
  {
   "cell_type": "code",
   "execution_count": 6,
   "metadata": {},
   "outputs": [
    {
     "data": {
      "text/plain": [
       "[Row(type=u'track', Name=u'Smile', Artist=u'Artist: Josh Groban', Id=1223851),\n",
       " Row(type=u'track', Name=u'Chuni Ashkharhe Qez Nman 2015', Artist=u'Artist: Razmik Amyan', Id=1215486),\n",
       " Row(type=u'track', Name=u'Dark City', Artist=u'Artist: Machinae Supremacy', Id=1296462),\n",
       " Row(type=u'track', Name=u'Not Sensitive', Artist=u'Artist: Moby', Id=1249694),\n",
       " Row(type=u'artist', Name=u'Artist: Carlos Puebla', Artist=u'Artist: Carlos Puebla', Id=1352221),\n",
       " Row(type=u'track', Name=u'Thiz Gangsta Chit Iz Ourz', Artist=u'Artist: Tha Dogg Pound', Id=1217194),\n",
       " Row(type=u'track', Name=u'Ruffneck', Artist=u'Artist: Skrillex', Id=1245681),\n",
       " Row(type=u'track', Name=u'Incerc', Artist=u'Artist: Spike', Id=1193283),\n",
       " Row(type=u'artist', Name=u'Artist: Wallenbergs Whiskey Hell', Artist=u'Artist: Wallenbergs Whiskey Hell', Id=1333444),\n",
       " Row(type=u'track', Name=u'remix', Artist=u'Artist: Flo Rida', Id=1246378)]"
      ]
     },
     "execution_count": 6,
     "metadata": {},
     "output_type": "execute_result"
    }
   ],
   "source": [
    "meta.take(10)"
   ]
  },
  {
   "cell_type": "code",
   "execution_count": 7,
   "metadata": {},
   "outputs": [],
   "source": [
    "findArtists = data.join(meta, data.artistId == meta.Id) \\\n",
    "    .where((f.col('userId') == 776748) & (f.col('type') == u'artist')) \\\n",
    "    .select('Artist', 'Name', 'type').distinct()"
   ]
  },
  {
   "cell_type": "code",
   "execution_count": 8,
   "metadata": {},
   "outputs": [
    {
     "data": {
      "text/plain": [
       "[Row(Artist=u'Artist: Blur', Name=u'Artist: Blur', type=u'artist'),\n",
       " Row(Artist=u'Artist: Linkin Park', Name=u'Artist: Linkin Park', type=u'artist'),\n",
       " Row(Artist=u'Artist: Clawfinger', Name=u'Artist: Clawfinger', type=u'artist'),\n",
       " Row(Artist=u'Artist: 3 Doors Down', Name=u'Artist: 3 Doors Down', type=u'artist'),\n",
       " Row(Artist=u'Artist: Serj Tankian', Name=u'Artist: Serj Tankian', type=u'artist'),\n",
       " Row(Artist=u'Artist: Three Days Grace', Name=u'Artist: Three Days Grace', type=u'artist'),\n",
       " Row(Artist=u'Artist: Gotthard', Name=u'Artist: Gotthard', type=u'artist'),\n",
       " Row(Artist=u'Artist: Iggy Pop', Name=u'Artist: Iggy Pop', type=u'artist'),\n",
       " Row(Artist=u'Artist: Nomy', Name=u'Artist: Nomy', type=u'artist'),\n",
       " Row(Artist=u'Artist: Nickelback', Name=u'Artist: Nickelback', type=u'artist')]"
      ]
     },
     "execution_count": 8,
     "metadata": {},
     "output_type": "execute_result"
    }
   ],
   "source": [
    "findArtists.take(10)"
   ]
  },
  {
   "cell_type": "code",
   "execution_count": 9,
   "metadata": {},
   "outputs": [],
   "source": [
    "findTracks = data.join(meta, data.trackId == meta.Id) \\\n",
    "    .where((f.col('userId') == 776748) & (f.col('type') == u'track')) \\\n",
    "    .select('Artist', 'Name', 'type').distinct()"
   ]
  },
  {
   "cell_type": "code",
   "execution_count": 10,
   "metadata": {},
   "outputs": [
    {
     "data": {
      "text/plain": [
       "[Row(Artist=u'Artist: Thousand Foot Krutch', Name=u'Take It Out On Me', type=u'track'),\n",
       " Row(Artist=u'Artist: Linkin Park', Name=u'Numb', type=u'track'),\n",
       " Row(Artist=u'Artist: Papa Roach', Name=u'Getting Away With Murder', type=u'track'),\n",
       " Row(Artist=u'Artist: Rise Against', Name=u'Prayer Of The Refugee', type=u'track'),\n",
       " Row(Artist=u'Artist: Blur', Name=u'Girls and Boys', type=u'track'),\n",
       " Row(Artist=u'Artist: Korn', Name=u'Here To Stay', type=u'track'),\n",
       " Row(Artist=u'Artist: Three Days Grace', Name=u'I Hate Everything About You', type=u'track'),\n",
       " Row(Artist=u'Artist: 3 Doors Down', Name=u'Kryptonite', type=u'track'),\n",
       " Row(Artist=u'Artist: Green Day', Name=u'21 Guns', type=u'track'),\n",
       " Row(Artist=u'Artist: Green Day', Name=u'Kill The DJ', type=u'track')]"
      ]
     },
     "execution_count": 10,
     "metadata": {},
     "output_type": "execute_result"
    }
   ],
   "source": [
    "findTracks.take(10)"
   ]
  },
  {
   "cell_type": "code",
   "execution_count": 11,
   "metadata": {},
   "outputs": [],
   "source": [
    "findAll = findArtists.union(findTracks) \\\n",
    "    .orderBy('Artist', 'type', 'Name') \\\n",
    "    .select('Artist', 'Name') \\\n",
    "    .take(40)"
   ]
  },
  {
   "cell_type": "code",
   "execution_count": 12,
   "metadata": {},
   "outputs": [
    {
     "name": "stdout",
     "output_type": "stream",
     "text": [
      "Artist: 3 Doors Down Artist: 3 Doors Down\n",
      "Artist: 3 Doors Down Kryptonite\n",
      "Artist: 311 Artist: 311\n",
      "Artist: 311 Beautiful disaster\n",
      "Artist: Blur Artist: Blur\n",
      "Artist: Blur Girls and Boys\n",
      "Artist: Clawfinger Artist: Clawfinger\n",
      "Artist: Clawfinger Nothing Going On\n",
      "Artist: Disturbed Artist: Disturbed\n",
      "Artist: Disturbed The Vengeful One\n",
      "Artist: Gotthard Artist: Gotthard\n",
      "Artist: Gotthard Eagle\n",
      "Artist: Green Day Artist: Green Day\n",
      "Artist: Green Day 21 Guns\n",
      "Artist: Green Day Kill The DJ\n",
      "Artist: Iggy Pop Artist: Iggy Pop\n",
      "Artist: Iggy Pop Sunday\n",
      "Artist: Korn Artist: Korn\n",
      "Artist: Korn Here To Stay\n",
      "Artist: Linkin Park Artist: Linkin Park\n",
      "Artist: Linkin Park In The End\n",
      "Artist: Linkin Park Numb\n",
      "Artist: Lordi Artist: Lordi\n",
      "Artist: Lordi Hard Rock Hallelujah\n",
      "Artist: Nickelback Artist: Nickelback\n",
      "Artist: Nickelback She Keeps Me Up\n",
      "Artist: Nomy Artist: Nomy\n",
      "Artist: Nomy Cocaine\n",
      "Artist: Papa Roach Artist: Papa Roach\n",
      "Artist: Papa Roach Getting Away With Murder\n",
      "Artist: Rise Against Artist: Rise Against\n",
      "Artist: Rise Against Prayer Of The Refugee\n",
      "Artist: Serj Tankian Artist: Serj Tankian\n",
      "Artist: Serj Tankian Sky is Over\n",
      "Artist: Slipknot Artist: Slipknot\n",
      "Artist: Slipknot Wait And Bleed\n",
      "Artist: The Offspring Artist: The Offspring\n",
      "Artist: The Offspring Come Out and Play\n",
      "Artist: Thousand Foot Krutch Artist: Thousand Foot Krutch\n",
      "Artist: Thousand Foot Krutch Take It Out On Me\n"
     ]
    }
   ],
   "source": [
    "for val in findAll:\n",
    "    print \"%s %s\" % val"
   ]
  }
 ],
 "metadata": {
  "kernelspec": {
   "display_name": "Python 3",
   "language": "python",
   "name": "python3"
  },
  "language_info": {
   "codemirror_mode": {
    "name": "ipython",
    "version": 3
   },
   "file_extension": ".py",
   "mimetype": "text/x-python",
   "name": "python",
   "nbconvert_exporter": "python",
   "pygments_lexer": "ipython3",
   "version": "3.8.3"
  }
 },
 "nbformat": 4,
 "nbformat_minor": 2
}
