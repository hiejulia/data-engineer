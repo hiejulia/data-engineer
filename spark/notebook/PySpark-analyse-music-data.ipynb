{
 "cells": [
  {
   "cell_type": "code",
   "execution_count": 1,
   "metadata": {},
   "outputs": [
    {
     "name": "stdout",
     "output_type": "stream",
     "text": [
      "Welcome to\n",
      "      ____              __\n",
      "     / __/__  ___ _____/ /__\n",
      "    _\\ \\/ _ \\/ _ `/ __/  '_/\n",
      "   /__ / .__/\\_,_/_/ /_/\\_\\   version 2.1.1\n",
      "      /_/\n",
      "\n",
      "Using Python version 2.7.12 (default, Nov 19 2016 06:48:10)\n",
      "SparkSession available as 'spark'.\n"
     ]
    }
   ],
   "source": [
    "import os\n",
    "execfile(os.path.join(os.environ[\"SPARK_HOME\"], 'python/pyspark/shell.py'))"
   ]
  },
  {
   "cell_type": "code",
   "execution_count": 2,
   "metadata": {},
   "outputs": [],
   "source": [
    "from pyspark.sql import SparkSession\n",
    "sparkSession = SparkSession.builder.enableHiveSupport().master(\"local[*]\").getOrCreate()"
   ]
  },
  {
   "cell_type": "code",
   "execution_count": 3,
   "metadata": {},
   "outputs": [],
   "source": [
    "from pyspark.sql import functions as f\n",
    "from pyspark.sql import Window"
   ]
  },
  {
   "cell_type": "code",
   "execution_count": 4,
   "metadata": {},
   "outputs": [],
   "source": [
    "data = sparkSession.read.parquet(\"/data/sample264\")"
   ]
  },
  {
   "cell_type": "code",
   "execution_count": 5,
   "metadata": {},
   "outputs": [
    {
     "data": {
      "text/plain": [
       "[Row(userId=13065, trackId=944906, artistId=978428, timestamp=1501588527),\n",
       " Row(userId=101897, trackId=799685, artistId=989262, timestamp=1501555608),\n",
       " Row(userId=215049, trackId=871513, artistId=988199, timestamp=1501604269),\n",
       " Row(userId=309769, trackId=857670, artistId=987809, timestamp=1501540265),\n",
       " Row(userId=397833, trackId=903510, artistId=994595, timestamp=1501597615),\n",
       " Row(userId=501769, trackId=818149, artistId=994975, timestamp=1501577955),\n",
       " Row(userId=601353, trackId=958990, artistId=973098, timestamp=1501602467),\n",
       " Row(userId=710921, trackId=916226, artistId=972031, timestamp=1501611582),\n",
       " Row(userId=6743, trackId=801006, artistId=994339, timestamp=1501584964),\n",
       " Row(userId=152407, trackId=913509, artistId=994334, timestamp=1501571055)]"
      ]
     },
     "execution_count": 5,
     "metadata": {},
     "output_type": "execute_result"
    }
   ],
   "source": [
    "data.take(10)"
   ]
  },
  {
   "cell_type": "code",
   "execution_count": 6,
   "metadata": {},
   "outputs": [],
   "source": [
    "userTrack = data.groupBy('userId', 'trackId').count()"
   ]
  },
  {
   "cell_type": "code",
   "execution_count": 7,
   "metadata": {},
   "outputs": [
    {
     "data": {
      "text/plain": [
       "[Row(userId=185109, trackId=870292, count=4),\n",
       " Row(userId=93053, trackId=915614, count=1),\n",
       " Row(userId=55026, trackId=949518, count=1),\n",
       " Row(userId=640605, trackId=841340, count=3),\n",
       " Row(userId=103552, trackId=942680, count=3),\n",
       " Row(userId=227285, trackId=944606, count=2),\n",
       " Row(userId=105324, trackId=928370, count=1),\n",
       " Row(userId=647294, trackId=887536, count=1),\n",
       " Row(userId=324195, trackId=821053, count=1),\n",
       " Row(userId=513364, trackId=857897, count=10)]"
      ]
     },
     "execution_count": 7,
     "metadata": {},
     "output_type": "execute_result"
    }
   ],
   "source": [
    "userTrack.take(10)"
   ]
  },
  {
   "cell_type": "code",
   "execution_count": 8,
   "metadata": {},
   "outputs": [],
   "source": [
    "def norm(df, key1, key2, field, n): \n",
    "    \n",
    "    window = Window.partitionBy(key1).orderBy(f.col(field).desc())\n",
    "        \n",
    "    topsDF = df.withColumn('row_number', f.row_number().over(window)) \\\n",
    "        .filter(f.col('row_number') <= n) \\\n",
    "        .drop(f.col('row_number')) \n",
    "        \n",
    "    tmpDF = topsDF.groupBy(f.col(key1)).agg(f.col(key1), f.sum(f.col(field)).alias('sum_' + field))\n",
    "   \n",
    "    normalizedDF = topsDF.join(tmpDF, key1, 'inner') \\\n",
    "        .withColumn('norm_' + field, f.col(field) / f.col('sum_' + field)) \\\n",
    "        .cache()\n",
    "\n",
    "    return normalizedDF"
   ]
  },
  {
   "cell_type": "code",
   "execution_count": 9,
   "metadata": {},
   "outputs": [],
   "source": [
    "userTrackNorm = norm(userTrack, 'userId', 'trackId', 'count', 1000) \\\n",
    "        .select('userId', 'trackId', 'norm_count')"
   ]
  },
  {
   "cell_type": "code",
   "execution_count": 10,
   "metadata": {},
   "outputs": [
    {
     "data": {
      "text/plain": [
       "[Row(userId=3175, trackId=947718, norm_count=0.1111111111111111),\n",
       " Row(userId=3175, trackId=940951, norm_count=0.1111111111111111),\n",
       " Row(userId=3175, trackId=845631, norm_count=0.1111111111111111),\n",
       " Row(userId=3175, trackId=864690, norm_count=0.1111111111111111),\n",
       " Row(userId=3175, trackId=831005, norm_count=0.1111111111111111),\n",
       " Row(userId=3175, trackId=930432, norm_count=0.1111111111111111),\n",
       " Row(userId=3175, trackId=965012, norm_count=0.1111111111111111),\n",
       " Row(userId=3175, trackId=858940, norm_count=0.1111111111111111),\n",
       " Row(userId=3175, trackId=829307, norm_count=0.1111111111111111),\n",
       " Row(userId=5518, trackId=961148, norm_count=0.5),\n",
       " Row(userId=5518, trackId=873588, norm_count=0.3333333333333333),\n",
       " Row(userId=5518, trackId=930964, norm_count=0.16666666666666666),\n",
       " Row(userId=5803, trackId=810419, norm_count=1.0),\n",
       " Row(userId=6654, trackId=802183, norm_count=0.2),\n",
       " Row(userId=6654, trackId=886091, norm_count=0.2),\n",
       " Row(userId=6654, trackId=825094, norm_count=0.2),\n",
       " Row(userId=6654, trackId=846873, norm_count=0.2),\n",
       " Row(userId=6654, trackId=928999, norm_count=0.2),\n",
       " Row(userId=7253, trackId=800755, norm_count=0.125),\n",
       " Row(userId=7253, trackId=935631, norm_count=0.125),\n",
       " Row(userId=7253, trackId=890344, norm_count=0.125),\n",
       " Row(userId=7253, trackId=808719, norm_count=0.125),\n",
       " Row(userId=7253, trackId=828014, norm_count=0.125),\n",
       " Row(userId=7253, trackId=902508, norm_count=0.125),\n",
       " Row(userId=7253, trackId=882221, norm_count=0.125),\n",
       " Row(userId=7253, trackId=800219, norm_count=0.125),\n",
       " Row(userId=7340, trackId=831521, norm_count=0.1111111111111111),\n",
       " Row(userId=7340, trackId=924948, norm_count=0.1111111111111111),\n",
       " Row(userId=7340, trackId=862698, norm_count=0.1111111111111111),\n",
       " Row(userId=7340, trackId=957174, norm_count=0.1111111111111111)]"
      ]
     },
     "execution_count": 10,
     "metadata": {},
     "output_type": "execute_result"
    }
   ],
   "source": [
    "userTrackNorm.take(30)"
   ]
  },
  {
   "cell_type": "code",
   "execution_count": 11,
   "metadata": {},
   "outputs": [],
   "source": [
    "window = Window.orderBy(f.col('norm_count').desc())\n",
    "    \n",
    "userTrackList = userTrackNorm.withColumn('position', f.rank().over(window)) \\\n",
    "    .filter(f.col('position') < 40) \\\n",
    "    .orderBy('userId', 'trackId') \\\n",
    "    .select('userId', 'trackId') \\\n",
    "    .take(40)"
   ]
  },
  {
   "cell_type": "code",
   "execution_count": 12,
   "metadata": {},
   "outputs": [
    {
     "name": "stdout",
     "output_type": "stream",
     "text": [
      "66 965774\n",
      "116 867268\n",
      "128 852564\n",
      "131 880170\n",
      "195 946408\n",
      "215 860111\n",
      "235 897176\n",
      "300 857973\n",
      "321 915545\n",
      "328 943482\n",
      "333 818202\n",
      "346 864911\n",
      "356 961308\n",
      "428 943572\n",
      "431 902497\n",
      "445 831381\n",
      "488 841340\n",
      "542 815388\n",
      "617 946395\n",
      "649 901672\n",
      "658 937522\n",
      "662 881433\n",
      "698 935934\n",
      "708 952432\n",
      "746 879259\n",
      "747 879259\n",
      "776 946408\n",
      "784 806468\n",
      "806 866581\n",
      "811 948017\n",
      "837 799685\n",
      "901 871513\n",
      "923 879322\n",
      "934 940714\n",
      "957 945183\n",
      "989 878364\n",
      "999 967768\n",
      "1006 962774\n",
      "1049 849484\n",
      "1057 920458\n"
     ]
    }
   ],
   "source": [
    "for val in userTrackList:\n",
    "    print \"%s %s\" % val"
   ]
  }
 ],
 "metadata": {
  "kernelspec": {
   "display_name": "Python 3",
   "language": "python",
   "name": "python3"
  },
  "language_info": {
   "codemirror_mode": {
    "name": "ipython",
    "version": 3
   },
   "file_extension": ".py",
   "mimetype": "text/x-python",
   "name": "python",
   "nbconvert_exporter": "python",
   "pygments_lexer": "ipython3",
   "version": "3.8.3"
  }
 },
 "nbformat": 4,
 "nbformat_minor": 2
}
