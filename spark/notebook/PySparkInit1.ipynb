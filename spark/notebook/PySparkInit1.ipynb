{
 "cells": [
  {
   "cell_type": "code",
   "execution_count": 1,
   "metadata": {},
   "outputs": [
    {
     "name": "stdout",
     "output_type": "stream",
     "text": [
      "Welcome to\n",
      "      ____              __\n",
      "     / __/__  ___ _____/ /__\n",
      "    _\\ \\/ _ \\/ _ `/ __/  '_/\n",
      "   /__ / .__/\\_,_/_/ /_/\\_\\   version 2.1.1\n",
      "      /_/\n",
      "\n",
      "Using Python version 2.7.12 (default, Nov 19 2016 06:48:10)\n",
      "SparkSession available as 'spark'.\n"
     ]
    }
   ],
   "source": [
    "import os\n",
    "execfile(os.path.join(os.environ[\"SPARK_HOME\"], 'python/pyspark/shell.py'))"
   ]
  },
  {
   "cell_type": "code",
   "execution_count": 2,
   "metadata": {},
   "outputs": [],
   "source": [
    "from pyspark.sql import SparkSession\n",
    "sparkSession = SparkSession.builder.enableHiveSupport().master(\"local [*]\").getOrCreate()"
   ]
  },
  {
   "cell_type": "code",
   "execution_count": 3,
   "metadata": {},
   "outputs": [],
   "source": [
    "graphPath = \"/data/graphDFSample\""
   ]
  },
  {
   "cell_type": "code",
   "execution_count": 4,
   "metadata": {},
   "outputs": [],
   "source": [
    "from pyspark.sql import functions as f\n",
    "from pyspark.sql import Window\n",
    "\n",
    "reversedGraph = sparkSession.read.parquet(graphPath) \\\n",
    "    .withColumn('friend', f.explode('friends')) \\\n",
    "    .groupBy('friend') \\\n",
    "    .agg(f.collect_list('user').alias('users')) \\\n",
    "    .withColumn('users_size', f.size('users')) \\"
   ]
  },
  {
   "cell_type": "code",
   "execution_count": 5,
   "metadata": {},
   "outputs": [],
   "source": [
    "sortedUsers = reversedGraph.select('friend', f.sort_array('users', asc=True).alias('users')) \\\n",
    "    .where(\"users_size > 1\")"
   ]
  },
  {
   "cell_type": "code",
   "execution_count": 6,
   "metadata": {},
   "outputs": [
    {
     "name": "stdout",
     "output_type": "stream",
     "text": [
      "root\n",
      " |-- friend: integer (nullable = true)\n",
      " |-- users: array (nullable = true)\n",
      " |    |-- element: integer (containsNull = true)\n",
      "\n"
     ]
    },
    {
     "data": {
      "text/plain": [
       "[Row(friend=148, users=[3195315, 14631101, 14957568, 65051219]),\n",
       " Row(friend=36538, users=[5506394, 6170161, 6846874, 15305594, 17133226, 19016678, 20686207, 20689187, 22582764, 23057528, 27967558, 28135661, 29050446, 31111067, 35731241, 36375468, 38837335, 40003405, 41101961, 41660921, 42973992, 43548989, 44996025, 51969555, 53947972, 57354452, 60011356, 63305254, 63987222, 64553898, 64583713, 65275157]),\n",
       " Row(friend=41751, users=[41811068, 60873111]),\n",
       " Row(friend=49331, users=[45058971, 58571716]),\n",
       " Row(friend=73470, users=[37445156, 49852791])]"
      ]
     },
     "execution_count": 6,
     "metadata": {},
     "output_type": "execute_result"
    }
   ],
   "source": [
    "sortedUsers.printSchema()\n",
    "sortedUsers.take(5)"
   ]
  },
  {
   "cell_type": "code",
   "execution_count": 7,
   "metadata": {},
   "outputs": [
    {
     "data": {
      "text/plain": [
       "[Row(friend=10779267, users=[3005878, 16864791, 18045563, 33267968, 34970989, 41814149]),\n",
       " Row(friend=14234237, users=[16701792, 24695283, 46633863, 64141780]),\n",
       " Row(friend=39482878, users=[5972916, 65652010]),\n",
       " Row(friend=47171361, users=[32054649, 34246133, 35446920]),\n",
       " Row(friend=60428981, users=[6213902, 8500095, 24202437, 40278699]),\n",
       " Row(friend=18856343, users=[11733418, 13093228, 16660577, 19487004, 29190145, 29991273, 35317536, 53652199, 56235349, 56312936, 60232793, 61474415, 63511361, 64884877]),\n",
       " Row(friend=36094687, users=[1769762, 4968794, 13477563, 26688190, 42419303, 47774786]),\n",
       " Row(friend=10885386, users=[45193348, 64038969]),\n",
       " Row(friend=30876552, users=[38818161, 40593919, 54334554]),\n",
       " Row(friend=9435701, users=[18192104, 40280512]),\n",
       " Row(friend=56362212, users=[3196626, 48304423]),\n",
       " Row(friend=53156747, users=[57613523, 62333346]),\n",
       " Row(friend=52899767, users=[36893285, 42580642, 64486762]),\n",
       " Row(friend=39810948, users=[2388100, 36737336]),\n",
       " Row(friend=42064487, users=[22824722, 33440052]),\n",
       " Row(friend=38987960, users=[7373629, 33198759, 36254958]),\n",
       " Row(friend=33786712, users=[15498035, 39058230]),\n",
       " Row(friend=54383370, users=[2573901, 6399856, 12988507, 37319313, 43766845, 53902650, 64407896, 64952034]),\n",
       " Row(friend=65267080, users=[1192144, 4208501, 8842715, 18811968, 21999012, 23351706, 24248832, 40867483, 41003743, 46628813, 52883678, 55065339, 64458173]),\n",
       " Row(friend=43526363, users=[12069786, 40253656]),\n",
       " Row(friend=35974352, users=[35368245, 37323308, 49276534, 59801528]),\n",
       " Row(friend=11153487, users=[2395194, 6726863, 27611126, 58620475]),\n",
       " Row(friend=3288386, users=[564218, 12423071]),\n",
       " Row(friend=1746936, users=[10457010, 56943920, 59784497]),\n",
       " Row(friend=47400497, users=[5409441, 17852226, 24473024, 27812274, 32503752]),\n",
       " Row(friend=65349998, users=[47127112, 50265728]),\n",
       " Row(friend=16586201, users=[27833995, 42277419, 46702473]),\n",
       " Row(friend=48368027, users=[16884224, 37554304]),\n",
       " Row(friend=263798, users=[20789121, 31514038]),\n",
       " Row(friend=2986526, users=[728040, 5723929, 39754527])]"
      ]
     },
     "execution_count": 7,
     "metadata": {},
     "output_type": "execute_result"
    }
   ],
   "source": [
    "#sample = sortedUsers.sample(False, 0.00001)\n",
    "#sample.collect()"
   ]
  },
  {
   "cell_type": "code",
   "execution_count": 8,
   "metadata": {},
   "outputs": [],
   "source": [
    "def genUserPair(users):\n",
    "    \n",
    "    pairs = []\n",
    "    n = len(users)\n",
    "    \n",
    "    for i in range(n):\n",
    "        for j in range(i+1, n):\n",
    "            pair = [users[i], users[j]]\n",
    "            pairs.append(pair)\n",
    "            \n",
    "    return pairs"
   ]
  },
  {
   "cell_type": "code",
   "execution_count": 9,
   "metadata": {},
   "outputs": [
    {
     "data": {
      "text/plain": [
       "[[3195315, 14631101],\n",
       " [3195315, 14957568],\n",
       " [3195315, 65051219],\n",
       " [14631101, 14957568],\n",
       " [14631101, 65051219],\n",
       " [14957568, 65051219]]"
      ]
     },
     "execution_count": 9,
     "metadata": {},
     "output_type": "execute_result"
    }
   ],
   "source": [
    "genUserPair([3195315, 14631101, 14957568, 65051219])"
   ]
  },
  {
   "cell_type": "code",
   "execution_count": 10,
   "metadata": {},
   "outputs": [],
   "source": [
    "from pyspark.sql import types as t\n",
    "genUserPair_udf = f.udf(genUserPair, t.ArrayType(t.ArrayType(t.IntegerType())))"
   ]
  },
  {
   "cell_type": "code",
   "execution_count": 11,
   "metadata": {},
   "outputs": [],
   "source": [
    "userPairs = sortedUsers.select('friend', genUserPair_udf('users').alias('pairs')) \\\n",
    "    .withColumn('pair', f.explode('pairs')) \\\n",
    "    .withColumn('user1', f.col('pair')[0]) \\\n",
    "    .withColumn('user2', f.col('pair')[1]) \\\n",
    "    .select('friend', 'user1', 'user2')"
   ]
  },
  {
   "cell_type": "code",
   "execution_count": 12,
   "metadata": {},
   "outputs": [
    {
     "name": "stdout",
     "output_type": "stream",
     "text": [
      "root\n",
      " |-- friend: integer (nullable = true)\n",
      " |-- user1: integer (nullable = true)\n",
      " |-- user2: integer (nullable = true)\n",
      "\n"
     ]
    },
    {
     "data": {
      "text/plain": [
       "[Row(friend=148, user1=3195315, user2=14631101),\n",
       " Row(friend=148, user1=3195315, user2=14957568),\n",
       " Row(friend=148, user1=3195315, user2=65051219),\n",
       " Row(friend=148, user1=14631101, user2=14957568),\n",
       " Row(friend=148, user1=14631101, user2=65051219)]"
      ]
     },
     "execution_count": 12,
     "metadata": {},
     "output_type": "execute_result"
    }
   ],
   "source": [
    "userPairs.printSchema()\n",
    "userPairs.take(5)"
   ]
  },
  {
   "cell_type": "code",
   "execution_count": 13,
   "metadata": {},
   "outputs": [],
   "source": [
    "mutualFriends = userPairs.groupBy('user1', 'user2') \\\n",
    "    .agg(f.count('friend').alias('mutual_friends'))"
   ]
  },
  {
   "cell_type": "code",
   "execution_count": 14,
   "metadata": {},
   "outputs": [
    {
     "name": "stdout",
     "output_type": "stream",
     "text": [
      "root\n",
      " |-- user1: integer (nullable = true)\n",
      " |-- user2: integer (nullable = true)\n",
      " |-- mutual_friends: long (nullable = false)\n",
      "\n"
     ]
    },
    {
     "data": {
      "text/plain": [
       "[Row(user1=19016678, user2=27967558, mutual_friends=25),\n",
       " Row(user1=35731241, user2=63987222, mutual_friends=1272),\n",
       " Row(user1=38837335, user2=60011356, mutual_friends=2),\n",
       " Row(user1=40003405, user2=41101961, mutual_friends=26),\n",
       " Row(user1=3274722, user2=37391049, mutual_friends=100)]"
      ]
     },
     "execution_count": 14,
     "metadata": {},
     "output_type": "execute_result"
    }
   ],
   "source": [
    "mutualFriends.printSchema()\n",
    "mutualFriends.take(5)"
   ]
  },
  {
   "cell_type": "code",
   "execution_count": 15,
   "metadata": {},
   "outputs": [],
   "source": [
    "window = Window.orderBy(f.col('mutual_friends').desc())\n",
    "    \n",
    "top50 = mutualFriends.withColumn('row_number', f.row_number().over(window)) \\\n",
    "    .filter('row_number < 50') \\\n",
    "    .select('mutual_friends', 'user1', 'user2') \\\n",
    "    .orderBy(f.col('mutual_friends').desc()) \\\n",
    "    .collect()"
   ]
  },
  {
   "cell_type": "code",
   "execution_count": 16,
   "metadata": {},
   "outputs": [
    {
     "name": "stdout",
     "output_type": "stream",
     "text": [
      "3206 27967558 42973992\n",
      "3130 20158643 42973992\n",
      "3066 22582764 42973992\n",
      "3044 21864412 51640390\n",
      "3021 17139850 51640390\n",
      "3010 14985079 51640390\n",
      "2970 17139850 21864412\n",
      "2913 20158643 27967558\n",
      "2903 22280814 51151280\n",
      "2870 23848749 51640390\n",
      "2855 20158643 22582764\n",
      "2849 20158643 44996025\n",
      "2846 22280814 42973992\n",
      "2784 21864412 23848749\n",
      "2779 31964081 51640390\n",
      "2776 39205988 51640390\n",
      "2754 17139850 23848749\n",
      "2749 22582764 27967558\n",
      "2728 50561859 51640390\n",
      "2724 15485897 51640390\n",
      "2700 28135661 42973992\n",
      "2655 22280814 27967558\n",
      "2653 42973992 43548989\n",
      "2639 26755857 51640390\n",
      "2621 14635589 51640390\n",
      "2608 15485897 17139850\n",
      "2606 17139850 26755857\n",
      "2601 21864412 39205988\n",
      "2600 8406745 51640390\n",
      "2599 37735419 51640390\n",
      "2597 20158643 28135661\n",
      "2585 21864412 31964081\n",
      "2585 40003405 42973992\n",
      "2581 27967558 43548989\n",
      "2579 23848749 31964081\n",
      "2578 15485897 21864412\n",
      "2578 27967558 28135661\n",
      "2577 42973992 64755069\n",
      "2574 51151280 57077210\n",
      "2573 20158643 43548989\n",
      "2566 21864412 26755857\n",
      "2564 22280814 64755069\n",
      "2561 42973992 44996025\n",
      "2556 17139850 39205988\n",
      "2543 23848749 39205988\n",
      "2521 17139850 31964081\n",
      "2515 27967558 44996025\n",
      "2506 41629539 51640390\n",
      "2505 51151280 64755069\n"
     ]
    }
   ],
   "source": [
    "for val in top50:\n",
    "    print '%s %s %s' % val"
   ]
  }
 ],
 "metadata": {
  "kernelspec": {
   "display_name": "Python 3",
   "language": "python",
   "name": "python3"
  },
  "language_info": {
   "codemirror_mode": {
    "name": "ipython",
    "version": 3
   },
   "file_extension": ".py",
   "mimetype": "text/x-python",
   "name": "python",
   "nbconvert_exporter": "python",
   "pygments_lexer": "ipython3",
   "version": "3.8.3"
  }
 },
 "nbformat": 4,
 "nbformat_minor": 2
}
