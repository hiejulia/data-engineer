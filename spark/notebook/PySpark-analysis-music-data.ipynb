{
 "cells": [
  {
   "cell_type": "code",
   "execution_count": 1,
   "metadata": {},
   "outputs": [
    {
     "name": "stdout",
     "output_type": "stream",
     "text": [
      "Welcome to\n",
      "      ____              __\n",
      "     / __/__  ___ _____/ /__\n",
      "    _\\ \\/ _ \\/ _ `/ __/  '_/\n",
      "   /__ / .__/\\_,_/_/ /_/\\_\\   version 2.1.1\n",
      "      /_/\n",
      "\n",
      "Using Python version 2.7.12 (default, Nov 19 2016 06:48:10)\n",
      "SparkSession available as 'spark'.\n"
     ]
    }
   ],
   "source": [
    "import os\n",
    "execfile(os.path.join(os.environ[\"SPARK_HOME\"], 'python/pyspark/shell.py'))"
   ]
  },
  {
   "cell_type": "code",
   "execution_count": 2,
   "metadata": {},
   "outputs": [],
   "source": [
    "from pyspark.sql import SparkSession\n",
    "sparkSession = SparkSession.builder.enableHiveSupport().master(\"local[*]\").getOrCreate()"
   ]
  },
  {
   "cell_type": "code",
   "execution_count": 3,
   "metadata": {},
   "outputs": [],
   "source": [
    "from pyspark.sql import functions as f\n",
    "from pyspark.sql import Window"
   ]
  },
  {
   "cell_type": "code",
   "execution_count": 4,
   "metadata": {},
   "outputs": [],
   "source": [
    "data = sparkSession.read.parquet(\"/data/sample264\")"
   ]
  },
  {
   "cell_type": "code",
   "execution_count": 5,
   "metadata": {},
   "outputs": [
    {
     "data": {
      "text/plain": [
       "[Row(userId=13065, trackId=944906, artistId=978428, timestamp=1501588527),\n",
       " Row(userId=101897, trackId=799685, artistId=989262, timestamp=1501555608),\n",
       " Row(userId=215049, trackId=871513, artistId=988199, timestamp=1501604269),\n",
       " Row(userId=309769, trackId=857670, artistId=987809, timestamp=1501540265),\n",
       " Row(userId=397833, trackId=903510, artistId=994595, timestamp=1501597615),\n",
       " Row(userId=501769, trackId=818149, artistId=994975, timestamp=1501577955),\n",
       " Row(userId=601353, trackId=958990, artistId=973098, timestamp=1501602467),\n",
       " Row(userId=710921, trackId=916226, artistId=972031, timestamp=1501611582),\n",
       " Row(userId=6743, trackId=801006, artistId=994339, timestamp=1501584964),\n",
       " Row(userId=152407, trackId=913509, artistId=994334, timestamp=1501571055)]"
      ]
     },
     "execution_count": 5,
     "metadata": {},
     "output_type": "execute_result"
    }
   ],
   "source": [
    "data.take(10)"
   ]
  },
  {
   "cell_type": "code",
   "execution_count": 6,
   "metadata": {},
   "outputs": [],
   "source": [
    "tracks = data.alias('df1').join(data.alias('df2'), 'userId') \\\n",
    "    .withColumn('diff', f.col('df1.timestamp') - f.col('df2.timestamp')) \\\n",
    "    .where((f.col('diff') > 0) & (f.col('diff') <= 420) & (f.col('df1.trackId') != f.col('df2.trackId'))) \\\n",
    "    .select(f.col('df1.trackId').alias('track1'), f.col('df2.trackId').alias('track2')) \\\n",
    "    .withColumn('id1', f.when((f.col('track1') < f.col('track2')), f.col('track1')).otherwise(f.col('track2'))) \\\n",
    "    .withColumn('id2', f.when((f.col('track1') < f.col('track2')), f.col('track2')).otherwise(f.col('track1'))) \\\n",
    "    .select('id1', 'id2') \\\n",
    "    .groupBy(f.col('id1'), f.col('id2')).count()"
   ]
  },
  {
   "cell_type": "code",
   "execution_count": 7,
   "metadata": {},
   "outputs": [
    {
     "data": {
      "text/plain": [
       "[Row(id1=874523, id2=900026, count=1),\n",
       " Row(id1=812616, id2=834204, count=1),\n",
       " Row(id1=891623, id2=927170, count=15),\n",
       " Row(id1=800288, id2=944500, count=1),\n",
       " Row(id1=930224, id2=933768, count=47),\n",
       " Row(id1=814652, id2=884527, count=1),\n",
       " Row(id1=857076, id2=858940, count=1),\n",
       " Row(id1=829417, id2=892124, count=7),\n",
       " Row(id1=807087, id2=830876, count=1),\n",
       " Row(id1=822237, id2=867350, count=2),\n",
       " Row(id1=824673, id2=954186, count=4),\n",
       " Row(id1=805959, id2=901935, count=12),\n",
       " Row(id1=915099, id2=936935, count=3),\n",
       " Row(id1=846674, id2=872475, count=1),\n",
       " Row(id1=822971, id2=831261, count=4),\n",
       " Row(id1=809695, id2=842209, count=1),\n",
       " Row(id1=865876, id2=965934, count=1),\n",
       " Row(id1=855221, id2=871513, count=7),\n",
       " Row(id1=836384, id2=860385, count=2),\n",
       " Row(id1=846624, id2=940951, count=9),\n",
       " Row(id1=802640, id2=953737, count=16),\n",
       " Row(id1=893411, id2=937511, count=1),\n",
       " Row(id1=799143, id2=847678, count=1),\n",
       " Row(id1=803513, id2=825398, count=1),\n",
       " Row(id1=874318, id2=887900, count=1),\n",
       " Row(id1=864690, id2=932849, count=1),\n",
       " Row(id1=807842, id2=943905, count=1),\n",
       " Row(id1=817280, id2=916661, count=1),\n",
       " Row(id1=842908, id2=919147, count=1),\n",
       " Row(id1=899991, id2=933274, count=4)]"
      ]
     },
     "execution_count": 7,
     "metadata": {},
     "output_type": "execute_result"
    }
   ],
   "source": [
    "tracks.take(30)"
   ]
  },
  {
   "cell_type": "code",
   "execution_count": 8,
   "metadata": {},
   "outputs": [],
   "source": [
    "def norm(df, key1, key2, field, n): \n",
    "    \n",
    "    window = Window.partitionBy(key1).orderBy(f.col(field).desc())\n",
    "        \n",
    "    topsDF = df.withColumn('row_number', f.row_number().over(window)) \\\n",
    "        .filter(f.col('row_number') <= n) \\\n",
    "        .drop(f.col('row_number')) \n",
    "        \n",
    "    tmpDF = topsDF.groupBy(f.col(key1)).agg(f.col(key1), f.sum(f.col(field)).alias('sum_' + field))\n",
    "   \n",
    "    normalizedDF = topsDF.join(tmpDF, key1, 'inner') \\\n",
    "        .withColumn('norm_' + field, f.col(field) / f.col('sum_' + field)) \\\n",
    "        .cache()\n",
    "\n",
    "    return normalizedDF"
   ]
  },
  {
   "cell_type": "code",
   "execution_count": 9,
   "metadata": {},
   "outputs": [],
   "source": [
    "tracksNorm = norm(tracks, 'id1', 'id2', 'count', 40) \\\n",
    "        .select('id1', 'id2', 'norm_count')"
   ]
  },
  {
   "cell_type": "code",
   "execution_count": 10,
   "metadata": {},
   "outputs": [
    {
     "data": {
      "text/plain": [
       "[Row(id1=798477, id2=883244, norm_count=1.0),\n",
       " Row(id1=798692, id2=898823, norm_count=1.0),\n",
       " Row(id1=800467, id2=855206, norm_count=1.0),\n",
       " Row(id1=801701, id2=920990, norm_count=1.0),\n",
       " Row(id1=802599, id2=908754, norm_count=0.03571428571428571),\n",
       " Row(id1=802599, id2=937714, norm_count=0.03571428571428571),\n",
       " Row(id1=802599, id2=811513, norm_count=0.03571428571428571),\n",
       " Row(id1=802599, id2=929402, norm_count=0.03571428571428571),\n",
       " Row(id1=802599, id2=924227, norm_count=0.03571428571428571),\n",
       " Row(id1=802599, id2=901687, norm_count=0.03571428571428571),\n",
       " Row(id1=802599, id2=860294, norm_count=0.03571428571428571),\n",
       " Row(id1=802599, id2=880642, norm_count=0.03571428571428571),\n",
       " Row(id1=802599, id2=920627, norm_count=0.03571428571428571),\n",
       " Row(id1=802599, id2=843219, norm_count=0.03571428571428571),\n",
       " Row(id1=802599, id2=892457, norm_count=0.03571428571428571),\n",
       " Row(id1=802599, id2=823001, norm_count=0.03571428571428571),\n",
       " Row(id1=802599, id2=899859, norm_count=0.03571428571428571),\n",
       " Row(id1=802599, id2=866435, norm_count=0.03571428571428571),\n",
       " Row(id1=802599, id2=881358, norm_count=0.03571428571428571),\n",
       " Row(id1=802599, id2=901328, norm_count=0.03571428571428571),\n",
       " Row(id1=802599, id2=955459, norm_count=0.03571428571428571),\n",
       " Row(id1=802599, id2=949099, norm_count=0.03571428571428571),\n",
       " Row(id1=802599, id2=813969, norm_count=0.03571428571428571),\n",
       " Row(id1=802599, id2=852638, norm_count=0.03571428571428571),\n",
       " Row(id1=802599, id2=817399, norm_count=0.03571428571428571),\n",
       " Row(id1=802599, id2=960498, norm_count=0.03571428571428571),\n",
       " Row(id1=802599, id2=814352, norm_count=0.03571428571428571),\n",
       " Row(id1=802599, id2=894214, norm_count=0.03571428571428571),\n",
       " Row(id1=802599, id2=909544, norm_count=0.03571428571428571),\n",
       " Row(id1=802599, id2=860406, norm_count=0.03571428571428571),\n",
       " Row(id1=802599, id2=888497, norm_count=0.03571428571428571),\n",
       " Row(id1=802599, id2=962724, norm_count=0.03571428571428571),\n",
       " Row(id1=803868, id2=862399, norm_count=0.5),\n",
       " Row(id1=803868, id2=821251, norm_count=0.5),\n",
       " Row(id1=808110, id2=894437, norm_count=1.0),\n",
       " Row(id1=808445, id2=902586, norm_count=0.2916666666666667),\n",
       " Row(id1=808445, id2=833060, norm_count=0.2916666666666667),\n",
       " Row(id1=808445, id2=890834, norm_count=0.08333333333333333),\n",
       " Row(id1=808445, id2=827143, norm_count=0.08333333333333333),\n",
       " Row(id1=808445, id2=935934, norm_count=0.041666666666666664),\n",
       " Row(id1=808445, id2=844790, norm_count=0.041666666666666664),\n",
       " Row(id1=808445, id2=892808, norm_count=0.041666666666666664),\n",
       " Row(id1=808445, id2=881466, norm_count=0.041666666666666664),\n",
       " Row(id1=808445, id2=826414, norm_count=0.041666666666666664),\n",
       " Row(id1=808445, id2=928370, norm_count=0.041666666666666664),\n",
       " Row(id1=809289, id2=847119, norm_count=1.0),\n",
       " Row(id1=814446, id2=870227, norm_count=1.0),\n",
       " Row(id1=814618, id2=829417, norm_count=0.25),\n",
       " Row(id1=814618, id2=886044, norm_count=0.25),\n",
       " Row(id1=814618, id2=940951, norm_count=0.25)]"
      ]
     },
     "execution_count": 10,
     "metadata": {},
     "output_type": "execute_result"
    }
   ],
   "source": [
    "tracksNorm.take(50)"
   ]
  },
  {
   "cell_type": "code",
   "execution_count": 11,
   "metadata": {},
   "outputs": [],
   "source": [
    "window = Window.orderBy(f.col('norm_count').desc())\n",
    "    \n",
    "TrackList = tracksNorm.withColumn('position', f.rank().over(window)) \\\n",
    "    .filter(f.col('position') < 40) \\\n",
    "    .orderBy(f.col('id1'), f.col('id2')) \\\n",
    "    .select('id1', 'id2') \\\n",
    "    .take(40)"
   ]
  },
  {
   "cell_type": "code",
   "execution_count": 12,
   "metadata": {},
   "outputs": [
    {
     "name": "stdout",
     "output_type": "stream",
     "text": [
      "798256 923706\n",
      "798319 837992\n",
      "798322 876562\n",
      "798331 827364\n",
      "798335 840741\n",
      "798374 816874\n",
      "798375 810685\n",
      "798379 812055\n",
      "798380 840113\n",
      "798396 817687\n",
      "798398 926302\n",
      "798405 867217\n",
      "798443 905923\n",
      "798457 918918\n",
      "798460 891840\n",
      "798461 940379\n",
      "798470 840814\n",
      "798474 963162\n",
      "798477 883244\n",
      "798485 955521\n",
      "798505 905671\n",
      "798545 949238\n",
      "798550 936295\n",
      "798626 845438\n",
      "798691 818279\n",
      "798692 898823\n",
      "798702 811440\n",
      "798704 937570\n",
      "798725 933147\n",
      "798738 894170\n",
      "798745 799665\n",
      "798782 956938\n",
      "798801 950802\n",
      "798820 890393\n",
      "798833 916319\n",
      "798865 962662\n",
      "798931 893574\n",
      "798946 946408\n",
      "799012 809997\n",
      "799024 935246\n"
     ]
    }
   ],
   "source": [
    "for val in TrackList:\n",
    "    print \"%s %s\" % val"
   ]
  }
 ],
 "metadata": {
  "kernelspec": {
   "display_name": "Python 3",
   "language": "python",
   "name": "python3"
  },
  "language_info": {
   "codemirror_mode": {
    "name": "ipython",
    "version": 3
   },
   "file_extension": ".py",
   "mimetype": "text/x-python",
   "name": "python",
   "nbconvert_exporter": "python",
   "pygments_lexer": "ipython3",
   "version": "3.8.3"
  }
 },
 "nbformat": 4,
 "nbformat_minor": 2
}
