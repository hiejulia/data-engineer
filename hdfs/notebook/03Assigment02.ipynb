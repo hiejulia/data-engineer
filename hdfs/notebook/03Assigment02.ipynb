{
 "cells": [
  {
   "cell_type": "code",
   "execution_count": 1,
   "metadata": {
    "scrolled": false
   },
   "outputs": [
    {
     "name": "stdout",
     "output_type": "stream",
     "text": [
      "FSCK started by jovyan (auth:SIMPLE) from /127.0.0.1 for path /data/wiki/en_articles_part/articles-part at Sat Aug 25 20:44:52 UTC 2018\n",
      "/data/wiki/en_articles_part/articles-part 76861985 bytes, 1 block(s):  OK\n",
      "0. BP-912138591-172.17.0.1-1508245861251:blk_1073741825_1001 len=76861985 Live_repl=1 [DatanodeInfoWithStorage[127.0.0.1:50010,DS-abfda850-d766-4f78-a27c-3744043afccc,DISK]]\n",
      "\n",
      "Status: HEALTHY\n",
      " Total size:\t76861985 B\n",
      " Total dirs:\t0\n",
      " Total files:\t1\n",
      " Total symlinks:\t\t0\n",
      " Total blocks (validated):\t1 (avg. block size 76861985 B)\n",
      " Minimally replicated blocks:\t1 (100.0 %)\n",
      " Over-replicated blocks:\t0 (0.0 %)\n",
      " Under-replicated blocks:\t0 (0.0 %)\n",
      " Mis-replicated blocks:\t\t0 (0.0 %)\n",
      " Default replication factor:\t1\n",
      " Average block replication:\t1.0\n",
      " Corrupt blocks:\t\t0\n",
      " Missing replicas:\t\t0 (0.0 %)\n",
      " Number of data-nodes:\t\t1\n",
      " Number of racks:\t\t1\n",
      "FSCK ended at Sat Aug 25 20:44:52 UTC 2018 in 4 milliseconds\n",
      "\n",
      "\n",
      "The filesystem under path '/data/wiki/en_articles_part/articles-part' is HEALTHY\n"
     ]
    },
    {
     "name": "stderr",
     "output_type": "stream",
     "text": [
      "Connecting to namenode via http://localhost:50070/fsck?ugi=jovyan&files=1&blocks=1&locations=1&path=%2Fdata%2Fwiki%2Fen_articles_part%2Farticles-part\n"
     ]
    }
   ],
   "source": [
    "%%bash\n",
    "hdfs fsck /data/wiki/en_articles_part/articles-part -files -blocks -locations"
   ]
  },
  {
   "cell_type": "code",
   "execution_count": 4,
   "metadata": {},
   "outputs": [
    {
     "name": "stdout",
     "output_type": "stream",
     "text": [
      "Connecting to namenode via http://localhost:50070/fsck?ugi=jovyan&blockId=blk_1073741825+&path=%2F\r\n",
      "FSCK started by jovyan (auth:SIMPLE) from /127.0.0.1 at Sat Aug 25 20:56:08 UTC 2018\r\n",
      "\r\n",
      "Block Id: blk_1073741825\r\n",
      "Block belongs to: /data/wiki/en_articles_part/articles-part\r\n",
      "No. of Expected Replica: 1\r\n",
      "No. of live Replica: 1\r\n",
      "No. of excess Replica: 0\r\n",
      "No. of stale Replica: 0\r\n",
      "No. of decommissioned Replica: 0\r\n",
      "No. of decommissioning Replica: 0\r\n",
      "No. of corrupted Replica: 0\r\n",
      "Block replica on datanode/rack: 084740182d00/default-rack is HEALTHY\r\n"
     ]
    }
   ],
   "source": [
    "! hdfs fsck -blockId blk_1073741825"
   ]
  },
  {
   "cell_type": "code",
   "execution_count": null,
   "metadata": {},
   "outputs": [],
   "source": []
  }
 ],
 "metadata": {
  "kernelspec": {
   "display_name": "Python 3",
   "language": "python",
   "name": "python3"
  },
  "language_info": {
   "codemirror_mode": {
    "name": "ipython",
    "version": 3
   },
   "file_extension": ".py",
   "mimetype": "text/x-python",
   "name": "python",
   "nbconvert_exporter": "python",
   "pygments_lexer": "ipython3",
   "version": "3.8.3"
  }
 },
 "nbformat": 4,
 "nbformat_minor": 2
}
