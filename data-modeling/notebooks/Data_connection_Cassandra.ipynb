{
  "nbformat": 4,
  "nbformat_minor": 0,
  "metadata": {
    "colab": {
      "name": "Data-connection-Cassandra.ipynb",
      "provenance": [],
      "collapsed_sections": []
    },
    "kernelspec": {
      "name": "python3",
      "display_name": "Python 3"
    }
  },
  "cells": [
    {
      "cell_type": "code",
      "metadata": {
        "id": "LbihHxDBOHA3"
      },
      "source": [
        "https://docs.datastax.com/en/developer/python-driver/3.24/"
      ],
      "execution_count": null,
      "outputs": []
    },
    {
      "cell_type": "markdown",
      "metadata": {
        "id": "SfnjUwCxOIxW"
      },
      "source": [
        "CASSANDRA\n"
      ]
    },
    {
      "cell_type": "code",
      "metadata": {
        "id": "Ux6OLY5JO7Mv"
      },
      "source": [
        "\n",
        "import cassandra"
      ],
      "execution_count": null,
      "outputs": []
    },
    {
      "cell_type": "code",
      "metadata": {
        "id": "xZiBjzpYO7UA"
      },
      "source": [
        "from cassandra.cluster import Cluster\n",
        "# Cluster\n",
        "try: \n",
        "    cluster = Cluster(['127.0.0.1']) #If you have a locally installed Apache Cassandra instance\n",
        "    session = cluster.connect()\n",
        "except Exception as e:\n",
        "    print(e)"
      ],
      "execution_count": null,
      "outputs": []
    },
    {
      "cell_type": "code",
      "metadata": {
        "id": "HPm1CrEkO-Zc"
      },
      "source": [
        "# Keyspace\n",
        "try:\n",
        "    session.execute(\"\"\"\n",
        "    CREATE KEYSPACE IF NOT EXISTS udacity \n",
        "    WITH REPLICATION = \n",
        "    { 'class' : 'SimpleStrategy', 'replication_factor' : 1 }\"\"\"\n",
        ")\n",
        "\n",
        "except Exception as e:\n",
        "    print(e)"
      ],
      "execution_count": null,
      "outputs": []
    },
    {
      "cell_type": "code",
      "metadata": {
        "id": "nvI9RPugPCEg"
      },
      "source": [
        "try:\n",
        "    session.set_keyspace('udacity')\n",
        "except Exception as e:\n",
        "    print(e)"
      ],
      "execution_count": null,
      "outputs": []
    },
    {
      "cell_type": "code",
      "metadata": {
        "id": "Jx2q0xjWPDXQ"
      },
      "source": [
        "query = \"CREATE TABLE IF NOT EXISTS songs \"\n",
        "query = query + \"(year int, song_title text, artist_name text, album_name text, single boolean, PRIMARY KEY (year, artist_name))\"\n",
        "try:\n",
        "    session.execute(query)\n",
        "except Exception as e:\n",
        "    print(e)"
      ],
      "execution_count": null,
      "outputs": []
    },
    {
      "cell_type": "code",
      "metadata": {
        "id": "IHdwNbd6PGCk"
      },
      "source": [
        "query = \"INSERT INTO songs (year, song_title, artist_name, album_name, single)\" \n",
        "query = query + \" VALUES (%s, %s, %s, %s, %s)\"\n",
        "\n",
        "try:\n",
        "    session.execute(query, (1970, \"Across The Universe\", \"The Beatles\", \"Let It Be\", False))\n",
        "except Exception as e:\n",
        "    print(e)\n",
        "    \n",
        "try:\n",
        "    session.execute(query, (1965, \"Think For Yourself\", \"The Beatles\", \"Rubber Soul\", False))\n",
        "except Exception as e:\n",
        "    print(e)"
      ],
      "execution_count": null,
      "outputs": []
    },
    {
      "cell_type": "code",
      "metadata": {
        "id": "IV2phD6-PH3H"
      },
      "source": [
        "query = 'SELECT * FROM songs'\n",
        "try:\n",
        "    rows = session.execute(query)\n",
        "except Exception as e:\n",
        "    print(e)\n",
        "    \n",
        "for row in rows:\n",
        "    print (row.year, row.album_name, row.artist_name)"
      ],
      "execution_count": null,
      "outputs": []
    },
    {
      "cell_type": "code",
      "metadata": {
        "id": "QmsgnRBWPJOa"
      },
      "source": [
        "query = \"SELECT * FROM songs WHERE YEAR=1970 AND artist_name='The Beatles'\"\n",
        "try:\n",
        "    rows = session.execute(query)\n",
        "except Exception as e:\n",
        "    print(e)\n",
        "    \n",
        "for row in rows:\n",
        "    print (row.year, row.album_name, row.artist_name)"
      ],
      "execution_count": null,
      "outputs": []
    },
    {
      "cell_type": "code",
      "metadata": {
        "id": "OyxX00HiPU0n"
      },
      "source": [
        "# Primary key "
      ],
      "execution_count": null,
      "outputs": []
    },
    {
      "cell_type": "code",
      "metadata": {
        "id": "cgSdYFZ9PU7J"
      },
      "source": [
        "query = \"CREATE TABLE IF NOT EXISTS music_library\"\n",
        "query = query + \"(year int, artist_name text, album_name text, city text, PRIMARY KEY (artist_name))\"\n",
        "try:\n",
        "    session.execute(query)\n",
        "except Exception as e:\n",
        "    print(e)"
      ],
      "execution_count": null,
      "outputs": []
    },
    {
      "cell_type": "code",
      "metadata": {
        "id": "cZlnzozGPU-R"
      },
      "source": [
        "query = \"CREATE TABLE IF NOT EXISTS music_library1\"\n",
        "query = query + \"(year int, artist_name text, album_name text, city text, PRIMARY KEY (artist_name, album_name))\"\n",
        "try:\n",
        "    session.execute(query)\n",
        "except Exception as e:\n",
        "    print(e)"
      ],
      "execution_count": null,
      "outputs": []
    },
    {
      "cell_type": "code",
      "metadata": {
        "id": "Gyhu32l-PU4y"
      },
      "source": [
        "## You can opt to change the sequence of columns to match your composite key. \\ \n",
        "## Make sure to match the values in the INSERT statement\n",
        "\n",
        "query = \"INSERT INTO music_library1 (year, artist_name, album_name, city)\"\n",
        "query = query + \" VALUES (%s, %s, %s, %s)\"\n",
        "\n",
        "try:\n",
        "    session.execute(query, (1970, \"The Beatles\", \"Let it Be\", \"Liverpool\"))\n",
        "except Exception as e:\n",
        "    print(e)\n",
        "    \n",
        "try:\n",
        "    session.execute(query, (1965, \"The Beatles\", \"Rubber Soul\", \"Oxford\"))\n",
        "except Exception as e:\n",
        "    print(e)\n",
        "    \n",
        "try:\n",
        "    session.execute(query, (1965, \"The Who\", \"My Generation\", \"London\"))\n",
        "except Exception as e:\n",
        "    print(e)\n",
        "\n",
        "try:\n",
        "    session.execute(query, (1966, \"The Monkees\", \"The Monkees\", \"Los Angeles\"))\n",
        "except Exception as e:\n",
        "    print(e)\n",
        "\n",
        "try:\n",
        "    session.execute(query, (1970, \"The Carpenters\", \"Close To You\", \"San Diego\"))\n",
        "except Exception as e:\n",
        "    print(e)"
      ],
      "execution_count": null,
      "outputs": []
    },
    {
      "cell_type": "code",
      "metadata": {
        "id": "gxFBIA2xPU27"
      },
      "source": [
        "# Drop table \n",
        "\n",
        "query = \"drop table music_library\"\n",
        "try:\n",
        "    rows = session.execute(query)\n",
        "except Exception as e:\n",
        "    print(e)\n",
        "\n",
        "query = \"drop table music_library1\"\n",
        "try:\n",
        "    rows = session.execute(query)\n",
        "except Exception as e:\n",
        "    print(e)\n",
        "    "
      ],
      "execution_count": null,
      "outputs": []
    },
    {
      "cell_type": "markdown",
      "metadata": {
        "id": "7ydXxNXgQejb"
      },
      "source": [
        "CLUSTERING COLUMNS\n"
      ]
    },
    {
      "cell_type": "code",
      "metadata": {
        "id": "www_9j1CQhoZ"
      },
      "source": [
        "# select * from album_library WHERE album_name=\"Close To You\"\n"
      ],
      "execution_count": null,
      "outputs": []
    },
    {
      "cell_type": "code",
      "metadata": {
        "id": "BOYRQScoQn95"
      },
      "source": [
        ""
      ],
      "execution_count": null,
      "outputs": []
    },
    {
      "cell_type": "code",
      "metadata": {
        "id": "rpBdKbm9QoC6"
      },
      "source": [
        ""
      ],
      "execution_count": null,
      "outputs": []
    },
    {
      "cell_type": "code",
      "metadata": {
        "id": "BEPTE24GQoBI"
      },
      "source": [
        ""
      ],
      "execution_count": null,
      "outputs": []
    },
    {
      "cell_type": "code",
      "metadata": {
        "id": "rnAfHovFPKqw"
      },
      "source": [
        "session.shutdown()\n",
        "cluster.shutdown()"
      ],
      "execution_count": null,
      "outputs": []
    },
    {
      "cell_type": "code",
      "metadata": {
        "id": "Naon72zkRXxs"
      },
      "source": [
        ""
      ],
      "execution_count": null,
      "outputs": []
    }
  ]
}