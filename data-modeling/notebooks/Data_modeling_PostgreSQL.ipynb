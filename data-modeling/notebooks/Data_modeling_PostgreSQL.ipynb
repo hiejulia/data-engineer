{
  "nbformat": 4,
  "nbformat_minor": 0,
  "metadata": {
    "colab": {
      "name": "Data-modeling-PostgreSQL.ipynb",
      "provenance": [],
      "collapsed_sections": []
    },
    "kernelspec": {
      "name": "python3",
      "display_name": "Python 3"
    }
  },
  "cells": [
    {
      "cell_type": "code",
      "metadata": {
        "id": "LbihHxDBOHA3"
      },
      "source": [
        ""
      ],
      "execution_count": null,
      "outputs": []
    },
    {
      "cell_type": "markdown",
      "metadata": {
        "id": "SfnjUwCxOIxW"
      },
      "source": [
        "POSTGRESQL"
      ]
    },
    {
      "cell_type": "code",
      "metadata": {
        "id": "CVEC5wpMOKLy"
      },
      "source": [
        "import psycopg2"
      ],
      "execution_count": null,
      "outputs": []
    },
    {
      "cell_type": "code",
      "metadata": {
        "id": "y2jbBPIuOKNx"
      },
      "source": [
        "!echo \"alter user student createdb;\" | sudo -u postgres psql"
      ],
      "execution_count": null,
      "outputs": []
    },
    {
      "cell_type": "code",
      "metadata": {
        "id": "69R2zL58OKRh"
      },
      "source": [
        "try: \n",
        "    conn = psycopg2.connect(\"host=127.0.0.1 dbname=studentdb user=student password=student\")\n",
        "except psycopg2.Error as e: \n",
        "    print(\"Error: Could not make connection to the Postgres database\")\n",
        "    print(e)"
      ],
      "execution_count": null,
      "outputs": []
    },
    {
      "cell_type": "code",
      "metadata": {
        "id": "QiRgZIs2OKQY"
      },
      "source": [
        "try: \n",
        "    cur = conn.cursor()\n",
        "except psycopg2.Error as e: \n",
        "    print(\"Error: Could not get curser to the Database\")\n",
        "    print(e)"
      ],
      "execution_count": null,
      "outputs": []
    },
    {
      "cell_type": "code",
      "metadata": {
        "id": "KwdQA0SBOUC1"
      },
      "source": [
        "conn.set_session(autocommit = True)"
      ],
      "execution_count": null,
      "outputs": []
    },
    {
      "cell_type": "code",
      "metadata": {
        "id": "Ipex0VyEOVqT"
      },
      "source": [
        "try: \n",
        "    cur.execute(\"create database songs\")\n",
        "except psycopg2.Error as e:\n",
        "    print(e)\n",
        "\n",
        "\n",
        "try: \n",
        "    conn.close()\n",
        "except psycopg2.Error as e:\n",
        "    print(e)\n",
        "    \n",
        "try: \n",
        "    conn = psycopg2.connect(\"host=127.0.0.1 dbname=songs user=student password=student\")\n",
        "except psycopg2.Error as e: \n",
        "    print(\"Error: Could not make connection to the Postgres database\")\n",
        "    print(e)\n",
        "    \n",
        "try: \n",
        "    cur = conn.cursor()\n",
        "except psycopg2.Error as e: \n",
        "    print(\"Error: Could not get curser to the Database\")\n",
        "    print(e)\n",
        "\n",
        "conn.set_session(autocommit=True)"
      ],
      "execution_count": null,
      "outputs": []
    },
    {
      "cell_type": "code",
      "metadata": {
        "id": "cAcOqVxaOZN5"
      },
      "source": [
        ""
      ],
      "execution_count": null,
      "outputs": []
    },
    {
      "cell_type": "markdown",
      "metadata": {
        "id": "lhnRLMWtOafC"
      },
      "source": [
        "song_title\n",
        "artist_name\n",
        "year\n",
        "album_name\n",
        "single"
      ]
    },
    {
      "cell_type": "code",
      "metadata": {
        "id": "F3xmXjxkOcKf"
      },
      "source": [
        "try: \n",
        "    cur.execute(\"CREATE TABLE IF NOT EXISTS music_library (song_title varchar, artist_name varchar, year int, album_name varchar, single varchar);\")\n",
        "except psycopg2.Error as e: \n",
        "    print(\"Error: Issue creating table\")\n",
        "    print (e)"
      ],
      "execution_count": null,
      "outputs": []
    },
    {
      "cell_type": "code",
      "metadata": {
        "id": "qFYhnAnBOd4h"
      },
      "source": [
        "try: \n",
        "    cur.execute(\"SELECT * FROM music_library;\")\n",
        "except psycopg2.Error as e: \n",
        "    print(\"Error: select *\")\n",
        "    print (e)\n",
        "\n",
        "row = cur.fetchone()\n",
        "while row:\n",
        "   print(row)\n",
        "   row = cur.fetchone()"
      ],
      "execution_count": null,
      "outputs": []
    },
    {
      "cell_type": "code",
      "metadata": {
        "id": "-IQEuHFuOxAq"
      },
      "source": [
        "cur.close()\n",
        "conn.close()"
      ],
      "execution_count": null,
      "outputs": []
    }
  ]
}